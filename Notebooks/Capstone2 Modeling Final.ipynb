{
 "cells": [
  {
   "cell_type": "markdown",
   "metadata": {},
   "source": [
    "# Capstone 2 - Preprocessing, Feature Selection and Final Testing"
   ]
  },
  {
   "cell_type": "code",
   "execution_count": 1,
   "metadata": {},
   "outputs": [],
   "source": [
    "#import models\n",
    "from sklearn.model_selection import GridSearchCV\n",
    "import pandas as pd\n",
    "import numpy as np\n",
    "from matplotlib import pyplot as plt\n",
    "import seaborn as sns\n",
    "import os\n",
    "from sklearn.metrics import roc_auc_score\n",
    "from sklearn.model_selection import train_test_split\n",
    "from sklearn.metrics import plot_confusion_matrix, precision_score, recall_score, f1_score, accuracy_score\n",
    "from sklearn.tree import DecisionTreeClassifier\n",
    "from sklearn.ensemble import RandomForestClassifier,AdaBoostClassifier,GradientBoostingClassifier\n",
    "from sklearn.model_selection import cross_val_score\n",
    "from sklearn.model_selection import RandomizedSearchCV\n",
    "from sklearn.preprocessing import StandardScaler"
   ]
  },
  {
   "cell_type": "code",
   "execution_count": 2,
   "metadata": {},
   "outputs": [
    {
     "data": {
      "text/plain": [
       "(566789, 26)"
      ]
     },
     "execution_count": 2,
     "metadata": {},
     "output_type": "execute_result"
    }
   ],
   "source": [
    "## bring in final clean dataset\n",
    "\n",
    "import os\n",
    "importpath = r'C:\\Users\\nmur1\\Google Drive\\Springboard\\Capstone2\\CleanData'\n",
    "os.chdir(importpath)\n",
    "dfmodel = pd.read_csv('FinalModelingSet.csv', index_col = None).drop(columns = 'Unnamed: 0')\n",
    "dfmodel.shape"
   ]
  },
  {
   "cell_type": "markdown",
   "metadata": {},
   "source": [
    "#### 1. Found some duplicated rows in tableau analysis. Review and drop"
   ]
  },
  {
   "cell_type": "code",
   "execution_count": 3,
   "metadata": {},
   "outputs": [],
   "source": [
    "dfmodel[dfmodel.loc[:,:'E_Season'].duplicated()]\n",
    "duped = dfmodel.loc[:,:'E_Season'].columns"
   ]
  },
  {
   "cell_type": "code",
   "execution_count": 4,
   "metadata": {},
   "outputs": [
    {
     "data": {
      "text/plain": [
       "(566789, 26)"
      ]
     },
     "execution_count": 4,
     "metadata": {},
     "output_type": "execute_result"
    }
   ],
   "source": [
    "dfmodel = dfmodel.drop_duplicates(subset = duped)\n",
    "dfmodel.shape"
   ]
  },
  {
   "cell_type": "markdown",
   "metadata": {},
   "source": [
    "Get X and Y set up for modeling.\n",
    "* y will be the Thirty Day future average price prediction.\n",
    "* Drop Sixty Day and Five Day predicitons. Initial testing found that five days was unpredictable and not a good fit for this model. Thirty and Sixty day were similar so decided to go with thirty day for y\n",
    "* Finally, take out Date and Ticker. Not dependant variables"
   ]
  },
  {
   "cell_type": "code",
   "execution_count": 5,
   "metadata": {},
   "outputs": [
    {
     "data": {
      "text/html": [
       "<div>\n",
       "<style scoped>\n",
       "    .dataframe tbody tr th:only-of-type {\n",
       "        vertical-align: middle;\n",
       "    }\n",
       "\n",
       "    .dataframe tbody tr th {\n",
       "        vertical-align: top;\n",
       "    }\n",
       "\n",
       "    .dataframe thead th {\n",
       "        text-align: right;\n",
       "    }\n",
       "</style>\n",
       "<table border=\"1\" class=\"dataframe\">\n",
       "  <thead>\n",
       "    <tr style=\"text-align: right;\">\n",
       "      <th></th>\n",
       "      <th>count</th>\n",
       "      <th>mean</th>\n",
       "      <th>std</th>\n",
       "      <th>min</th>\n",
       "      <th>25%</th>\n",
       "      <th>50%</th>\n",
       "      <th>75%</th>\n",
       "      <th>max</th>\n",
       "    </tr>\n",
       "  </thead>\n",
       "  <tbody>\n",
       "    <tr>\n",
       "      <th>DI_Plus</th>\n",
       "      <td>566789.0</td>\n",
       "      <td>2.377282e+01</td>\n",
       "      <td>7.475296e+00</td>\n",
       "      <td>1.101115e+00</td>\n",
       "      <td>1.849015e+01</td>\n",
       "      <td>2.339681e+01</td>\n",
       "      <td>2.856783e+01</td>\n",
       "      <td>7.554012e+01</td>\n",
       "    </tr>\n",
       "    <tr>\n",
       "      <th>ADX</th>\n",
       "      <td>566789.0</td>\n",
       "      <td>2.417552e+01</td>\n",
       "      <td>9.798024e+00</td>\n",
       "      <td>4.842246e+00</td>\n",
       "      <td>1.679679e+01</td>\n",
       "      <td>2.220359e+01</td>\n",
       "      <td>2.968306e+01</td>\n",
       "      <td>7.726019e+01</td>\n",
       "    </tr>\n",
       "    <tr>\n",
       "      <th>CMF</th>\n",
       "      <td>566789.0</td>\n",
       "      <td>3.612986e-02</td>\n",
       "      <td>1.559133e-01</td>\n",
       "      <td>-7.686553e-01</td>\n",
       "      <td>-6.997010e-02</td>\n",
       "      <td>3.490260e-02</td>\n",
       "      <td>1.413231e-01</td>\n",
       "      <td>7.647697e-01</td>\n",
       "    </tr>\n",
       "    <tr>\n",
       "      <th>DI_Plus_Slope</th>\n",
       "      <td>566789.0</td>\n",
       "      <td>4.982610e-03</td>\n",
       "      <td>7.024472e-01</td>\n",
       "      <td>-3.133228e+00</td>\n",
       "      <td>-4.723623e-01</td>\n",
       "      <td>-1.991883e-02</td>\n",
       "      <td>4.556600e-01</td>\n",
       "      <td>4.269575e+00</td>\n",
       "    </tr>\n",
       "    <tr>\n",
       "      <th>DI_Plus_R</th>\n",
       "      <td>566789.0</td>\n",
       "      <td>4.108575e-01</td>\n",
       "      <td>2.969505e-01</td>\n",
       "      <td>1.904810e-11</td>\n",
       "      <td>1.262543e-01</td>\n",
       "      <td>3.968735e-01</td>\n",
       "      <td>6.695901e-01</td>\n",
       "      <td>9.985375e-01</td>\n",
       "    </tr>\n",
       "    <tr>\n",
       "      <th>Off_SMA</th>\n",
       "      <td>566789.0</td>\n",
       "      <td>3.260840e-01</td>\n",
       "      <td>5.071152e+00</td>\n",
       "      <td>-7.695924e+01</td>\n",
       "      <td>-1.761967e+00</td>\n",
       "      <td>6.496475e-01</td>\n",
       "      <td>2.824221e+00</td>\n",
       "      <td>7.628678e+01</td>\n",
       "    </tr>\n",
       "    <tr>\n",
       "      <th>Off_LB</th>\n",
       "      <td>566789.0</td>\n",
       "      <td>6.823473e+00</td>\n",
       "      <td>4.365855e+01</td>\n",
       "      <td>-1.688531e+04</td>\n",
       "      <td>2.302087e+00</td>\n",
       "      <td>4.803678e+00</td>\n",
       "      <td>8.666090e+00</td>\n",
       "      <td>1.254639e+04</td>\n",
       "    </tr>\n",
       "    <tr>\n",
       "      <th>eps</th>\n",
       "      <td>566789.0</td>\n",
       "      <td>4.476524e+00</td>\n",
       "      <td>9.463281e+00</td>\n",
       "      <td>-3.553000e+01</td>\n",
       "      <td>1.630000e+00</td>\n",
       "      <td>3.190000e+00</td>\n",
       "      <td>5.400000e+00</td>\n",
       "      <td>2.412900e+02</td>\n",
       "    </tr>\n",
       "    <tr>\n",
       "      <th>ROE</th>\n",
       "      <td>566789.0</td>\n",
       "      <td>4.613592e-02</td>\n",
       "      <td>3.224663e+00</td>\n",
       "      <td>-1.059130e+02</td>\n",
       "      <td>7.136024e-02</td>\n",
       "      <td>1.323200e-01</td>\n",
       "      <td>2.455090e-01</td>\n",
       "      <td>5.780000e+01</td>\n",
       "    </tr>\n",
       "    <tr>\n",
       "      <th>D2C</th>\n",
       "      <td>566789.0</td>\n",
       "      <td>2.140192e+01</td>\n",
       "      <td>7.332226e+01</td>\n",
       "      <td>0.000000e+00</td>\n",
       "      <td>1.430524e+00</td>\n",
       "      <td>4.299522e+00</td>\n",
       "      <td>1.435807e+01</td>\n",
       "      <td>1.308971e+03</td>\n",
       "    </tr>\n",
       "    <tr>\n",
       "      <th>epsgrowth</th>\n",
       "      <td>566789.0</td>\n",
       "      <td>6.350562e+01</td>\n",
       "      <td>1.202744e+03</td>\n",
       "      <td>-1.984438e+04</td>\n",
       "      <td>-2.620000e+00</td>\n",
       "      <td>1.240000e+00</td>\n",
       "      <td>3.379000e+01</td>\n",
       "      <td>4.151618e+04</td>\n",
       "    </tr>\n",
       "    <tr>\n",
       "      <th>Sales</th>\n",
       "      <td>566789.0</td>\n",
       "      <td>2.039933e+07</td>\n",
       "      <td>4.037640e+07</td>\n",
       "      <td>0.000000e+00</td>\n",
       "      <td>3.490000e+06</td>\n",
       "      <td>8.030000e+06</td>\n",
       "      <td>1.747000e+07</td>\n",
       "      <td>5.239600e+08</td>\n",
       "    </tr>\n",
       "    <tr>\n",
       "      <th>Percent_Buy</th>\n",
       "      <td>566789.0</td>\n",
       "      <td>4.547904e-01</td>\n",
       "      <td>2.185821e-01</td>\n",
       "      <td>0.000000e+00</td>\n",
       "      <td>2.857143e-01</td>\n",
       "      <td>4.615385e-01</td>\n",
       "      <td>6.190476e-01</td>\n",
       "      <td>1.000000e+00</td>\n",
       "    </tr>\n",
       "    <tr>\n",
       "      <th>PE_Ratio</th>\n",
       "      <td>566789.0</td>\n",
       "      <td>2.754493e+01</td>\n",
       "      <td>2.077430e+02</td>\n",
       "      <td>-5.624100e+03</td>\n",
       "      <td>1.400472e+01</td>\n",
       "      <td>2.174035e+01</td>\n",
       "      <td>3.293717e+01</td>\n",
       "      <td>4.356700e+03</td>\n",
       "    </tr>\n",
       "    <tr>\n",
       "      <th>Relative_PE</th>\n",
       "      <td>566789.0</td>\n",
       "      <td>-1.258359e-02</td>\n",
       "      <td>7.403918e+01</td>\n",
       "      <td>-4.229025e+03</td>\n",
       "      <td>-4.938001e-01</td>\n",
       "      <td>-7.274593e-02</td>\n",
       "      <td>1.328766e+00</td>\n",
       "      <td>5.209270e+02</td>\n",
       "    </tr>\n",
       "    <tr>\n",
       "      <th>Sales_Ratio</th>\n",
       "      <td>566789.0</td>\n",
       "      <td>3.533480e+00</td>\n",
       "      <td>3.579577e+00</td>\n",
       "      <td>0.000000e+00</td>\n",
       "      <td>1.185544e+00</td>\n",
       "      <td>2.418976e+00</td>\n",
       "      <td>4.536638e+00</td>\n",
       "      <td>3.810607e+01</td>\n",
       "    </tr>\n",
       "    <tr>\n",
       "      <th>Relative_SR</th>\n",
       "      <td>566789.0</td>\n",
       "      <td>6.034197e-04</td>\n",
       "      <td>9.312223e-01</td>\n",
       "      <td>-1.000000e+00</td>\n",
       "      <td>-5.732031e-01</td>\n",
       "      <td>-1.942727e-01</td>\n",
       "      <td>2.986472e-01</td>\n",
       "      <td>1.578212e+01</td>\n",
       "    </tr>\n",
       "    <tr>\n",
       "      <th>E_Season</th>\n",
       "      <td>566789.0</td>\n",
       "      <td>2.102987e-01</td>\n",
       "      <td>4.075211e-01</td>\n",
       "      <td>0.000000e+00</td>\n",
       "      <td>0.000000e+00</td>\n",
       "      <td>0.000000e+00</td>\n",
       "      <td>0.000000e+00</td>\n",
       "      <td>1.000000e+00</td>\n",
       "    </tr>\n",
       "    <tr>\n",
       "      <th>Pos_Coef</th>\n",
       "      <td>566789.0</td>\n",
       "      <td>-2.396353e-02</td>\n",
       "      <td>5.044800e-01</td>\n",
       "      <td>-3.082870e+00</td>\n",
       "      <td>-2.191978e-01</td>\n",
       "      <td>-2.537735e-05</td>\n",
       "      <td>1.582704e-01</td>\n",
       "      <td>3.515226e+00</td>\n",
       "    </tr>\n",
       "    <tr>\n",
       "      <th>SignalVar</th>\n",
       "      <td>566789.0</td>\n",
       "      <td>9.989071e-01</td>\n",
       "      <td>7.097911e-02</td>\n",
       "      <td>0.000000e+00</td>\n",
       "      <td>9.863927e-01</td>\n",
       "      <td>1.004985e+00</td>\n",
       "      <td>1.021637e+00</td>\n",
       "      <td>1.451043e+00</td>\n",
       "    </tr>\n",
       "  </tbody>\n",
       "</table>\n",
       "</div>"
      ],
      "text/plain": [
       "                  count          mean           std           min  \\\n",
       "DI_Plus        566789.0  2.377282e+01  7.475296e+00  1.101115e+00   \n",
       "ADX            566789.0  2.417552e+01  9.798024e+00  4.842246e+00   \n",
       "CMF            566789.0  3.612986e-02  1.559133e-01 -7.686553e-01   \n",
       "DI_Plus_Slope  566789.0  4.982610e-03  7.024472e-01 -3.133228e+00   \n",
       "DI_Plus_R      566789.0  4.108575e-01  2.969505e-01  1.904810e-11   \n",
       "Off_SMA        566789.0  3.260840e-01  5.071152e+00 -7.695924e+01   \n",
       "Off_LB         566789.0  6.823473e+00  4.365855e+01 -1.688531e+04   \n",
       "eps            566789.0  4.476524e+00  9.463281e+00 -3.553000e+01   \n",
       "ROE            566789.0  4.613592e-02  3.224663e+00 -1.059130e+02   \n",
       "D2C            566789.0  2.140192e+01  7.332226e+01  0.000000e+00   \n",
       "epsgrowth      566789.0  6.350562e+01  1.202744e+03 -1.984438e+04   \n",
       "Sales          566789.0  2.039933e+07  4.037640e+07  0.000000e+00   \n",
       "Percent_Buy    566789.0  4.547904e-01  2.185821e-01  0.000000e+00   \n",
       "PE_Ratio       566789.0  2.754493e+01  2.077430e+02 -5.624100e+03   \n",
       "Relative_PE    566789.0 -1.258359e-02  7.403918e+01 -4.229025e+03   \n",
       "Sales_Ratio    566789.0  3.533480e+00  3.579577e+00  0.000000e+00   \n",
       "Relative_SR    566789.0  6.034197e-04  9.312223e-01 -1.000000e+00   \n",
       "E_Season       566789.0  2.102987e-01  4.075211e-01  0.000000e+00   \n",
       "Pos_Coef       566789.0 -2.396353e-02  5.044800e-01 -3.082870e+00   \n",
       "SignalVar      566789.0  9.989071e-01  7.097911e-02  0.000000e+00   \n",
       "\n",
       "                        25%           50%           75%           max  \n",
       "DI_Plus        1.849015e+01  2.339681e+01  2.856783e+01  7.554012e+01  \n",
       "ADX            1.679679e+01  2.220359e+01  2.968306e+01  7.726019e+01  \n",
       "CMF           -6.997010e-02  3.490260e-02  1.413231e-01  7.647697e-01  \n",
       "DI_Plus_Slope -4.723623e-01 -1.991883e-02  4.556600e-01  4.269575e+00  \n",
       "DI_Plus_R      1.262543e-01  3.968735e-01  6.695901e-01  9.985375e-01  \n",
       "Off_SMA       -1.761967e+00  6.496475e-01  2.824221e+00  7.628678e+01  \n",
       "Off_LB         2.302087e+00  4.803678e+00  8.666090e+00  1.254639e+04  \n",
       "eps            1.630000e+00  3.190000e+00  5.400000e+00  2.412900e+02  \n",
       "ROE            7.136024e-02  1.323200e-01  2.455090e-01  5.780000e+01  \n",
       "D2C            1.430524e+00  4.299522e+00  1.435807e+01  1.308971e+03  \n",
       "epsgrowth     -2.620000e+00  1.240000e+00  3.379000e+01  4.151618e+04  \n",
       "Sales          3.490000e+06  8.030000e+06  1.747000e+07  5.239600e+08  \n",
       "Percent_Buy    2.857143e-01  4.615385e-01  6.190476e-01  1.000000e+00  \n",
       "PE_Ratio       1.400472e+01  2.174035e+01  3.293717e+01  4.356700e+03  \n",
       "Relative_PE   -4.938001e-01 -7.274593e-02  1.328766e+00  5.209270e+02  \n",
       "Sales_Ratio    1.185544e+00  2.418976e+00  4.536638e+00  3.810607e+01  \n",
       "Relative_SR   -5.732031e-01 -1.942727e-01  2.986472e-01  1.578212e+01  \n",
       "E_Season       0.000000e+00  0.000000e+00  0.000000e+00  1.000000e+00  \n",
       "Pos_Coef      -2.191978e-01 -2.537735e-05  1.582704e-01  3.515226e+00  \n",
       "SignalVar      9.863927e-01  1.004985e+00  1.021637e+00  1.451043e+00  "
      ]
     },
     "execution_count": 5,
     "metadata": {},
     "output_type": "execute_result"
    }
   ],
   "source": [
    "y = dfmodel['Thirty_Day'].ravel()\n",
    "X = dfmodel.drop(columns = [ 'Thirty_Day', 'Sixty_Day', 'Five_Day', 'Date', 'Ticker', 'Sector'])\n",
    "\n",
    "\n",
    "#First Run of Features\n",
    "X.describe().T"
   ]
  },
  {
   "cell_type": "markdown",
   "metadata": {},
   "source": [
    "# Run Data through 4 Popular Classification Models - DecisionTree, RandomForest, AdaBoost, GradientBoost - to Determine which to use moving forward"
   ]
  },
  {
   "cell_type": "code",
   "execution_count": 43,
   "metadata": {},
   "outputs": [
    {
     "name": "stdout",
     "output_type": "stream",
     "text": [
      "decision tree: 0.8464\n",
      "random forest: 0.9197\n",
      "Ada Boost: 0.5847\n",
      "Gradient Boosting: 0.589\n"
     ]
    }
   ],
   "source": [
    "\n",
    "\n",
    "\n",
    "# Step2: Split the training test set\n",
    "X_train, X_test, y_train, y_test = train_test_split(X, y, test_size=0.2, random_state=42)\n",
    "\n",
    "scaler =StandardScaler().fit(X_train)\n",
    "\n",
    "# Step 3: Fit a Decision Tree model as comparison\n",
    "DT = DecisionTreeClassifier()\n",
    "DT.fit(scaler.transform(X_train), y_train)\n",
    "y_pred = DT.predict(scaler.transform(X_test))\n",
    "print('decision tree:', round(accuracy_score(y_test, y_pred),4))\n",
    "\n",
    "# Step 4: Fit a Random Forest model, \n",
    "RF = RandomForestClassifier(n_estimators=100, max_features=\"auto\",random_state=0)\n",
    "RF.fit(scaler.transform(X_train), y_train)\n",
    "y_pred = RF.predict(scaler.transform(X_test))\n",
    "print('random forest:', round(accuracy_score(y_test, y_pred),4))\n",
    "\n",
    "# Step 5: Fit a AdaBoost model, \n",
    "ADA = AdaBoostClassifier(n_estimators=100)\n",
    "ADA.fit(scaler.transform(X_train), y_train)\n",
    "y_pred = ADA.predict(scaler.transform(X_test))\n",
    "print('Ada Boost:', round(accuracy_score(y_test, y_pred),4))\n",
    "\n",
    "# Step 6: Fit a Gradient Boosting model, \" compared to \"Decision Tree model, accuracy go up by 10%\n",
    "GB = GradientBoostingClassifier(n_estimators=100)\n",
    "GB.fit(scaler.transform(X_train), y_train)\n",
    "y_pred = GB.predict(scaler.transform(X_test))\n",
    "print('Gradient Boosting:', round(accuracy_score(y_test, y_pred),4))\n"
   ]
  },
  {
   "cell_type": "markdown",
   "metadata": {},
   "source": [
    "Looks like random forest performs the best"
   ]
  },
  {
   "cell_type": "markdown",
   "metadata": {},
   "source": [
    "## Run RFECV to determine optimal features"
   ]
  },
  {
   "cell_type": "code",
   "execution_count": 5,
   "metadata": {},
   "outputs": [
    {
     "data": {
      "image/png": "[encoded data removed]",
      "text/plain": [
       "<Figure size 432x288 with 1 Axes>"
      ]
     },
     "metadata": {
      "needs_background": "light"
     },
     "output_type": "display_data"
    }
   ],
   "source": [
    "from sklearn.svm import SVC\n",
    "from sklearn.model_selection import StratifiedKFold\n",
    "from sklearn.feature_selection import RFECV\n",
    "\n",
    "cv = StratifiedKFold(2)\n",
    "rfecv = RFECV(RandomForestClassifier(bootstrap = False), step = 1, cv = cv, scoring = 'precision')\n",
    "rfecv.fit(X, y)\n",
    "\n",
    "\n",
    "plt.figure()\n",
    "plt.xlabel(\"Number of features selected\")\n",
    "plt.ylabel(\"Cross validation score (nb of correct classifications)\")\n",
    "plt.plot(range(1, len(rfecv.grid_scores_) + 1), rfecv.grid_scores_)\n",
    "plt.show()"
   ]
  },
  {
   "cell_type": "code",
   "execution_count": 6,
   "metadata": {},
   "outputs": [
    {
     "data": {
      "text/html": [
       "<div>\n",
       "<style scoped>\n",
       "    .dataframe tbody tr th:only-of-type {\n",
       "        vertical-align: middle;\n",
       "    }\n",
       "\n",
       "    .dataframe tbody tr th {\n",
       "        vertical-align: top;\n",
       "    }\n",
       "\n",
       "    .dataframe thead th {\n",
       "        text-align: right;\n",
       "    }\n",
       "</style>\n",
       "<table border=\"1\" class=\"dataframe\">\n",
       "  <thead>\n",
       "    <tr style=\"text-align: right;\">\n",
       "      <th></th>\n",
       "      <th>0</th>\n",
       "    </tr>\n",
       "  </thead>\n",
       "  <tbody>\n",
       "    <tr>\n",
       "      <th>DI_Plus</th>\n",
       "      <td>1</td>\n",
       "    </tr>\n",
       "    <tr>\n",
       "      <th>ADX</th>\n",
       "      <td>1</td>\n",
       "    </tr>\n",
       "    <tr>\n",
       "      <th>CMF</th>\n",
       "      <td>1</td>\n",
       "    </tr>\n",
       "    <tr>\n",
       "      <th>DI_Plus_Slope</th>\n",
       "      <td>1</td>\n",
       "    </tr>\n",
       "    <tr>\n",
       "      <th>DI_Plus_R</th>\n",
       "      <td>4</td>\n",
       "    </tr>\n",
       "    <tr>\n",
       "      <th>Off_SMA</th>\n",
       "      <td>1</td>\n",
       "    </tr>\n",
       "    <tr>\n",
       "      <th>Off_LB</th>\n",
       "      <td>1</td>\n",
       "    </tr>\n",
       "    <tr>\n",
       "      <th>eps</th>\n",
       "      <td>1</td>\n",
       "    </tr>\n",
       "    <tr>\n",
       "      <th>ROE</th>\n",
       "      <td>1</td>\n",
       "    </tr>\n",
       "    <tr>\n",
       "      <th>D2C</th>\n",
       "      <td>1</td>\n",
       "    </tr>\n",
       "    <tr>\n",
       "      <th>epsgrowth</th>\n",
       "      <td>1</td>\n",
       "    </tr>\n",
       "    <tr>\n",
       "      <th>Sales</th>\n",
       "      <td>3</td>\n",
       "    </tr>\n",
       "    <tr>\n",
       "      <th>Percent_Buy</th>\n",
       "      <td>5</td>\n",
       "    </tr>\n",
       "    <tr>\n",
       "      <th>PE_Ratio</th>\n",
       "      <td>1</td>\n",
       "    </tr>\n",
       "    <tr>\n",
       "      <th>Relative_PE</th>\n",
       "      <td>1</td>\n",
       "    </tr>\n",
       "    <tr>\n",
       "      <th>Sales_Ratio</th>\n",
       "      <td>1</td>\n",
       "    </tr>\n",
       "    <tr>\n",
       "      <th>Relative_SR</th>\n",
       "      <td>1</td>\n",
       "    </tr>\n",
       "    <tr>\n",
       "      <th>E_Season</th>\n",
       "      <td>6</td>\n",
       "    </tr>\n",
       "    <tr>\n",
       "      <th>Pos_Coef</th>\n",
       "      <td>2</td>\n",
       "    </tr>\n",
       "    <tr>\n",
       "      <th>SignalVar</th>\n",
       "      <td>1</td>\n",
       "    </tr>\n",
       "  </tbody>\n",
       "</table>\n",
       "</div>"
      ],
      "text/plain": [
       "               0\n",
       "DI_Plus        1\n",
       "ADX            1\n",
       "CMF            1\n",
       "DI_Plus_Slope  1\n",
       "DI_Plus_R      4\n",
       "Off_SMA        1\n",
       "Off_LB         1\n",
       "eps            1\n",
       "ROE            1\n",
       "D2C            1\n",
       "epsgrowth      1\n",
       "Sales          3\n",
       "Percent_Buy    5\n",
       "PE_Ratio       1\n",
       "Relative_PE    1\n",
       "Sales_Ratio    1\n",
       "Relative_SR    1\n",
       "E_Season       6\n",
       "Pos_Coef       2\n",
       "SignalVar      1"
      ]
     },
     "execution_count": 6,
     "metadata": {},
     "output_type": "execute_result"
    }
   ],
   "source": [
    "# Create the RFE object and rank each pixel\n",
    "from sklearn.feature_selection import RFE\n",
    "\n",
    "#svc = SVC(kernel=\"linear\", C=1)\n",
    "rfe = RFE(estimator=RandomForestClassifier(), n_features_to_select=15, step=1)\n",
    "rfe.fit(X, y)\n",
    "\n",
    "\n",
    "\n",
    "pd.DataFrame(rfe.ranking_, X.columns)\n"
   ]
  },
  {
   "cell_type": "code",
   "execution_count": 7,
   "metadata": {},
   "outputs": [],
   "source": [
    "dfrank = pd.DataFrame(rfe.ranking_, X.columns)\n",
    "dfrank.columns = ['Rank']\n",
    "keep = dfrank[dfrank.Rank == 1].index"
   ]
  },
  {
   "cell_type": "markdown",
   "metadata": {},
   "source": [
    "Train Test Split"
   ]
  },
  {
   "cell_type": "code",
   "execution_count": 8,
   "metadata": {},
   "outputs": [
    {
     "name": "stdout",
     "output_type": "stream",
     "text": [
      "{'n_estimators': [10, 50, 100], 'max_features': ['auto', 'sqrt'], 'max_depth': [10, 20, None], 'min_samples_split': [2, 5, 10], 'min_samples_leaf': [1, 2, 4], 'bootstrap': [True, False]}\n"
     ]
    }
   ],
   "source": [
    "\n",
    "# Number of trees in random forest\n",
    "n_estimators = [10, 50, 100]\n",
    "# Number of features to consider at every split\n",
    "max_features = ['auto', 'sqrt']\n",
    "# Maximum number of levels in tree\n",
    "max_depth = [10, 20, None]\n",
    "\n",
    "# Minimum number of samples required to split a node\n",
    "min_samples_split = [2, 5, 10]\n",
    "# Minimum number of samples required at each leaf node\n",
    "min_samples_leaf = [1, 2, 4]\n",
    "# Method of selecting samples for training each tree\n",
    "bootstrap = [True, False]\n",
    "# Create the random grid\n",
    "random_grid = {'n_estimators': n_estimators,\n",
    "               'max_features': max_features,\n",
    "               'max_depth': max_depth,\n",
    "               'min_samples_split': min_samples_split,\n",
    "               'min_samples_leaf': min_samples_leaf,\n",
    "               'bootstrap': bootstrap}\n",
    "print(random_grid)\n"
   ]
  },
  {
   "cell_type": "code",
   "execution_count": 9,
   "metadata": {},
   "outputs": [
    {
     "name": "stdout",
     "output_type": "stream",
     "text": [
      "Fitting 3 folds for each of 100 candidates, totalling 300 fits\n"
     ]
    },
    {
     "name": "stderr",
     "output_type": "stream",
     "text": [
      "[Parallel(n_jobs=-1)]: Using backend LokyBackend with 8 concurrent workers.\n",
      "[Parallel(n_jobs=-1)]: Done  25 tasks      | elapsed:  6.3min\n",
      "[Parallel(n_jobs=-1)]: Done 146 tasks      | elapsed: 52.9min\n",
      "[Parallel(n_jobs=-1)]: Done 300 out of 300 | elapsed: 138.9min finished\n"
     ]
    },
    {
     "data": {
      "text/plain": [
       "RandomizedSearchCV(cv=3, error_score=nan,\n",
       "                   estimator=RandomForestClassifier(bootstrap=True,\n",
       "                                                    ccp_alpha=0.0,\n",
       "                                                    class_weight=None,\n",
       "                                                    criterion='gini',\n",
       "                                                    max_depth=None,\n",
       "                                                    max_features='auto',\n",
       "                                                    max_leaf_nodes=None,\n",
       "                                                    max_samples=None,\n",
       "                                                    min_impurity_decrease=0.0,\n",
       "                                                    min_impurity_split=None,\n",
       "                                                    min_samples_leaf=1,\n",
       "                                                    min_samples_split=2,\n",
       "                                                    min_weight_fraction_leaf=0.0,\n",
       "                                                    n_estimators=100, n_jobs...\n",
       "                                                    verbose=0,\n",
       "                                                    warm_start=False),\n",
       "                   iid='deprecated', n_iter=100, n_jobs=-1,\n",
       "                   param_distributions={'bootstrap': [True, False],\n",
       "                                        'max_depth': [10, 20, None],\n",
       "                                        'max_features': ['auto', 'sqrt'],\n",
       "                                        'min_samples_leaf': [1, 2, 4],\n",
       "                                        'min_samples_split': [2, 5, 10],\n",
       "                                        'n_estimators': [10, 50, 100]},\n",
       "                   pre_dispatch='2*n_jobs', random_state=42, refit=True,\n",
       "                   return_train_score=False, scoring=None, verbose=2)"
      ]
     },
     "execution_count": 9,
     "metadata": {},
     "output_type": "execute_result"
    }
   ],
   "source": [
    "\n",
    "rf = RandomForestClassifier(n_jobs = 1)\n",
    "rf_random = RandomizedSearchCV(estimator = rf, param_distributions = random_grid, n_iter = 100, cv = 3, verbose=2, random_state=42, n_jobs = -1)\n",
    "# Fit the random search model\n",
    "rf_random.fit(X_train, y_train)"
   ]
  },
  {
   "cell_type": "markdown",
   "metadata": {},
   "source": [
    "Best Params\n",
    "\n",
    "100 estimators, 2 min samples split, 1 min samples leaf, bootstrap = false\n",
    "\n",
    "Best Score = 90.3"
   ]
  },
  {
   "cell_type": "code",
   "execution_count": 14,
   "metadata": {},
   "outputs": [
    {
     "data": {
      "text/plain": [
       "{'n_estimators': 100,\n",
       " 'min_samples_split': 2,\n",
       " 'min_samples_leaf': 1,\n",
       " 'max_features': 'auto',\n",
       " 'max_depth': None,\n",
       " 'bootstrap': False}"
      ]
     },
     "execution_count": 14,
     "metadata": {},
     "output_type": "execute_result"
    }
   ],
   "source": [
    "rf_random.best_params_"
   ]
  },
  {
   "cell_type": "code",
   "execution_count": 12,
   "metadata": {},
   "outputs": [
    {
     "data": {
      "text/plain": [
       "0.9034690481213229"
      ]
     },
     "execution_count": 12,
     "metadata": {},
     "output_type": "execute_result"
    }
   ],
   "source": [
    "rf_random.best_score_"
   ]
  },
  {
   "cell_type": "markdown",
   "metadata": {},
   "source": [
    "2. Drop unimportant columns. Determine and review X2 variable"
   ]
  },
  {
   "cell_type": "code",
   "execution_count": 6,
   "metadata": {},
   "outputs": [
    {
     "data": {
      "text/html": [
       "<div>\n",
       "<style scoped>\n",
       "    .dataframe tbody tr th:only-of-type {\n",
       "        vertical-align: middle;\n",
       "    }\n",
       "\n",
       "    .dataframe tbody tr th {\n",
       "        vertical-align: top;\n",
       "    }\n",
       "\n",
       "    .dataframe thead th {\n",
       "        text-align: right;\n",
       "    }\n",
       "</style>\n",
       "<table border=\"1\" class=\"dataframe\">\n",
       "  <thead>\n",
       "    <tr style=\"text-align: right;\">\n",
       "      <th></th>\n",
       "      <th>count</th>\n",
       "      <th>mean</th>\n",
       "      <th>std</th>\n",
       "      <th>min</th>\n",
       "      <th>25%</th>\n",
       "      <th>50%</th>\n",
       "      <th>75%</th>\n",
       "      <th>max</th>\n",
       "    </tr>\n",
       "  </thead>\n",
       "  <tbody>\n",
       "    <tr>\n",
       "      <th>DI_Plus</th>\n",
       "      <td>566789.0</td>\n",
       "      <td>23.772818</td>\n",
       "      <td>7.475296</td>\n",
       "      <td>1.101115</td>\n",
       "      <td>18.490152</td>\n",
       "      <td>23.396812</td>\n",
       "      <td>28.567831</td>\n",
       "      <td>75.540116</td>\n",
       "    </tr>\n",
       "    <tr>\n",
       "      <th>ADX</th>\n",
       "      <td>566789.0</td>\n",
       "      <td>24.175524</td>\n",
       "      <td>9.798024</td>\n",
       "      <td>4.842246</td>\n",
       "      <td>16.796787</td>\n",
       "      <td>22.203587</td>\n",
       "      <td>29.683063</td>\n",
       "      <td>77.260194</td>\n",
       "    </tr>\n",
       "    <tr>\n",
       "      <th>CMF</th>\n",
       "      <td>566789.0</td>\n",
       "      <td>0.036130</td>\n",
       "      <td>0.155913</td>\n",
       "      <td>-0.768655</td>\n",
       "      <td>-0.069970</td>\n",
       "      <td>0.034903</td>\n",
       "      <td>0.141323</td>\n",
       "      <td>0.764770</td>\n",
       "    </tr>\n",
       "    <tr>\n",
       "      <th>DI_Plus_Slope</th>\n",
       "      <td>566789.0</td>\n",
       "      <td>0.004983</td>\n",
       "      <td>0.702447</td>\n",
       "      <td>-3.133228</td>\n",
       "      <td>-0.472362</td>\n",
       "      <td>-0.019919</td>\n",
       "      <td>0.455660</td>\n",
       "      <td>4.269575</td>\n",
       "    </tr>\n",
       "    <tr>\n",
       "      <th>Off_SMA</th>\n",
       "      <td>566789.0</td>\n",
       "      <td>0.326084</td>\n",
       "      <td>5.071152</td>\n",
       "      <td>-76.959239</td>\n",
       "      <td>-1.761967</td>\n",
       "      <td>0.649648</td>\n",
       "      <td>2.824221</td>\n",
       "      <td>76.286777</td>\n",
       "    </tr>\n",
       "    <tr>\n",
       "      <th>Off_LB</th>\n",
       "      <td>566789.0</td>\n",
       "      <td>6.823473</td>\n",
       "      <td>43.658550</td>\n",
       "      <td>-16885.314841</td>\n",
       "      <td>2.302087</td>\n",
       "      <td>4.803678</td>\n",
       "      <td>8.666090</td>\n",
       "      <td>12546.385488</td>\n",
       "    </tr>\n",
       "    <tr>\n",
       "      <th>eps</th>\n",
       "      <td>566789.0</td>\n",
       "      <td>4.476524</td>\n",
       "      <td>9.463281</td>\n",
       "      <td>-35.530000</td>\n",
       "      <td>1.630000</td>\n",
       "      <td>3.190000</td>\n",
       "      <td>5.400000</td>\n",
       "      <td>241.290000</td>\n",
       "    </tr>\n",
       "    <tr>\n",
       "      <th>ROE</th>\n",
       "      <td>566789.0</td>\n",
       "      <td>0.046136</td>\n",
       "      <td>3.224663</td>\n",
       "      <td>-105.913043</td>\n",
       "      <td>0.071360</td>\n",
       "      <td>0.132320</td>\n",
       "      <td>0.245509</td>\n",
       "      <td>57.800000</td>\n",
       "    </tr>\n",
       "    <tr>\n",
       "      <th>D2C</th>\n",
       "      <td>566789.0</td>\n",
       "      <td>21.401924</td>\n",
       "      <td>73.322259</td>\n",
       "      <td>0.000000</td>\n",
       "      <td>1.430524</td>\n",
       "      <td>4.299522</td>\n",
       "      <td>14.358071</td>\n",
       "      <td>1308.970684</td>\n",
       "    </tr>\n",
       "    <tr>\n",
       "      <th>epsgrowth</th>\n",
       "      <td>566789.0</td>\n",
       "      <td>63.505620</td>\n",
       "      <td>1202.743595</td>\n",
       "      <td>-19844.380000</td>\n",
       "      <td>-2.620000</td>\n",
       "      <td>1.240000</td>\n",
       "      <td>33.790000</td>\n",
       "      <td>41516.180000</td>\n",
       "    </tr>\n",
       "    <tr>\n",
       "      <th>PE_Ratio</th>\n",
       "      <td>566789.0</td>\n",
       "      <td>27.544929</td>\n",
       "      <td>207.743009</td>\n",
       "      <td>-5624.099998</td>\n",
       "      <td>14.004716</td>\n",
       "      <td>21.740347</td>\n",
       "      <td>32.937166</td>\n",
       "      <td>4356.700001</td>\n",
       "    </tr>\n",
       "    <tr>\n",
       "      <th>Relative_PE</th>\n",
       "      <td>566789.0</td>\n",
       "      <td>-0.012584</td>\n",
       "      <td>74.039178</td>\n",
       "      <td>-4229.025301</td>\n",
       "      <td>-0.493800</td>\n",
       "      <td>-0.072746</td>\n",
       "      <td>1.328766</td>\n",
       "      <td>520.927030</td>\n",
       "    </tr>\n",
       "    <tr>\n",
       "      <th>Sales_Ratio</th>\n",
       "      <td>566789.0</td>\n",
       "      <td>3.533480</td>\n",
       "      <td>3.579577</td>\n",
       "      <td>0.000000</td>\n",
       "      <td>1.185544</td>\n",
       "      <td>2.418976</td>\n",
       "      <td>4.536638</td>\n",
       "      <td>38.106072</td>\n",
       "    </tr>\n",
       "    <tr>\n",
       "      <th>Relative_SR</th>\n",
       "      <td>566789.0</td>\n",
       "      <td>0.000603</td>\n",
       "      <td>0.931222</td>\n",
       "      <td>-1.000000</td>\n",
       "      <td>-0.573203</td>\n",
       "      <td>-0.194273</td>\n",
       "      <td>0.298647</td>\n",
       "      <td>15.782116</td>\n",
       "    </tr>\n",
       "    <tr>\n",
       "      <th>SignalVar</th>\n",
       "      <td>566789.0</td>\n",
       "      <td>0.998907</td>\n",
       "      <td>0.070979</td>\n",
       "      <td>0.000000</td>\n",
       "      <td>0.986393</td>\n",
       "      <td>1.004985</td>\n",
       "      <td>1.021637</td>\n",
       "      <td>1.451043</td>\n",
       "    </tr>\n",
       "  </tbody>\n",
       "</table>\n",
       "</div>"
      ],
      "text/plain": [
       "                  count       mean          std           min        25%  \\\n",
       "DI_Plus        566789.0  23.772818     7.475296      1.101115  18.490152   \n",
       "ADX            566789.0  24.175524     9.798024      4.842246  16.796787   \n",
       "CMF            566789.0   0.036130     0.155913     -0.768655  -0.069970   \n",
       "DI_Plus_Slope  566789.0   0.004983     0.702447     -3.133228  -0.472362   \n",
       "Off_SMA        566789.0   0.326084     5.071152    -76.959239  -1.761967   \n",
       "Off_LB         566789.0   6.823473    43.658550 -16885.314841   2.302087   \n",
       "eps            566789.0   4.476524     9.463281    -35.530000   1.630000   \n",
       "ROE            566789.0   0.046136     3.224663   -105.913043   0.071360   \n",
       "D2C            566789.0  21.401924    73.322259      0.000000   1.430524   \n",
       "epsgrowth      566789.0  63.505620  1202.743595 -19844.380000  -2.620000   \n",
       "PE_Ratio       566789.0  27.544929   207.743009  -5624.099998  14.004716   \n",
       "Relative_PE    566789.0  -0.012584    74.039178  -4229.025301  -0.493800   \n",
       "Sales_Ratio    566789.0   3.533480     3.579577      0.000000   1.185544   \n",
       "Relative_SR    566789.0   0.000603     0.931222     -1.000000  -0.573203   \n",
       "SignalVar      566789.0   0.998907     0.070979      0.000000   0.986393   \n",
       "\n",
       "                     50%        75%           max  \n",
       "DI_Plus        23.396812  28.567831     75.540116  \n",
       "ADX            22.203587  29.683063     77.260194  \n",
       "CMF             0.034903   0.141323      0.764770  \n",
       "DI_Plus_Slope  -0.019919   0.455660      4.269575  \n",
       "Off_SMA         0.649648   2.824221     76.286777  \n",
       "Off_LB          4.803678   8.666090  12546.385488  \n",
       "eps             3.190000   5.400000    241.290000  \n",
       "ROE             0.132320   0.245509     57.800000  \n",
       "D2C             4.299522  14.358071   1308.970684  \n",
       "epsgrowth       1.240000  33.790000  41516.180000  \n",
       "PE_Ratio       21.740347  32.937166   4356.700001  \n",
       "Relative_PE    -0.072746   1.328766    520.927030  \n",
       "Sales_Ratio     2.418976   4.536638     38.106072  \n",
       "Relative_SR    -0.194273   0.298647     15.782116  \n",
       "SignalVar       1.004985   1.021637      1.451043  "
      ]
     },
     "execution_count": 6,
     "metadata": {},
     "output_type": "execute_result"
    }
   ],
   "source": [
    "keep = X.drop(columns = ['DI_Plus_R', 'Sales', 'Percent_Buy', 'E_Season', 'Pos_Coef'])\n",
    "X2 = dfmodel[keep.columns]\n",
    "X2.describe().T"
   ]
  },
  {
   "cell_type": "markdown",
   "metadata": {},
   "source": [
    "### 3. Initialize model, train test split, fit model and scale"
   ]
  },
  {
   "cell_type": "code",
   "execution_count": 7,
   "metadata": {},
   "outputs": [
    {
     "data": {
      "text/plain": [
       "RandomForestClassifier(bootstrap=False, ccp_alpha=0.0, class_weight=None,\n",
       "                       criterion='gini', max_depth=None, max_features='auto',\n",
       "                       max_leaf_nodes=None, max_samples=None,\n",
       "                       min_impurity_decrease=0.0, min_impurity_split=None,\n",
       "                       min_samples_leaf=1, min_samples_split=2,\n",
       "                       min_weight_fraction_leaf=0.0, n_estimators=100,\n",
       "                       n_jobs=-1, oob_score=False, random_state=42, verbose=0,\n",
       "                       warm_start=False)"
      ]
     },
     "execution_count": 7,
     "metadata": {},
     "output_type": "execute_result"
    }
   ],
   "source": [
    "model = RandomForestClassifier(100, n_jobs = -1, random_state = 42, min_samples_leaf = 1, criterion = \"gini\", min_samples_split = 2, bootstrap = False)\n",
    "X_train, X_test, y_train, y_test = train_test_split(X2, y, test_size = .25, random_state = 42)\n",
    "\n",
    "scaler =StandardScaler().fit(X_train)\n",
    "model.fit(scaler.transform(X_train),y_train)\n"
   ]
  },
  {
   "cell_type": "markdown",
   "metadata": {},
   "source": [
    "# Run Final Accruacy scores, graph feature importance, review confusion matrix for chosen model"
   ]
  },
  {
   "cell_type": "markdown",
   "metadata": {},
   "source": [
    "### Run and Test Predicitons on Scaled X_Test"
   ]
  },
  {
   "cell_type": "markdown",
   "metadata": {},
   "source": [
    "For this project I want to focus on maximizing Precision - minimizing false positive classifications\n",
    "A false positive would trigger a buy on a stock that will go down causing an actual loss. A false negative would mean I don't buy a stock that is actually going to go up; there would be opportunity cost but not an actual monetary loss.\n",
    "\n",
    "* Recall = True Positive / (True Positive + False Negative)\n",
    "* Precision = True Positive / (True Positive + False Positive)\n",
    "* F1 = (2 x Precision x Recall) / (Precision + Recall)"
   ]
  },
  {
   "cell_type": "code",
   "execution_count": 8,
   "metadata": {},
   "outputs": [],
   "source": [
    "ypred = model.predict(scaler.transform(X_test))"
   ]
  },
  {
   "cell_type": "code",
   "execution_count": 9,
   "metadata": {},
   "outputs": [
    {
     "name": "stdout",
     "output_type": "stream",
     "text": [
      "False Positives in Test: 5887\n",
      "Chance of FP's  4.15\n",
      "ROC: 0.924\n",
      "Accuracy 0.927\n",
      "Recall 0.945\n",
      "Precision 0.929\n",
      "F1 0.936\n"
     ]
    },
    {
     "data": {
      "image/png": "[encoded data removed]",
      "text/plain": [
       "<Figure size 432x288 with 2 Axes>"
      ]
     },
     "metadata": {
      "needs_background": "light"
     },
     "output_type": "display_data"
    }
   ],
   "source": [
    "from sklearn.metrics import confusion_matrix\n",
    "false_positives = confusion_matrix(y_test, ypred)[0][1]\n",
    "print('False Positives in Test:', false_positives)\n",
    "print(\"Chance of FP's \", round(false_positives / len(y_test),4) * 100)\n",
    "print('ROC:', round(roc_auc_score(y_test, ypred),3))\n",
    "print('Accuracy', round(accuracy_score(y_test,ypred),3))\n",
    "print('Recall', round(recall_score(y_test, ypred),3))\n",
    "print('Precision', round(precision_score(y_test, ypred),3))\n",
    "print('F1', round(f1_score(y_test, ypred),3))\n",
    "\n",
    "pd.reset_option('display.float_format')\n",
    "confmat = plot_confusion_matrix(model, scaler.transform(X_test), y_test, cmap=\"Blues\",values_format='.0f')\n"
   ]
  },
  {
   "cell_type": "code",
   "execution_count": 11,
   "metadata": {},
   "outputs": [
    {
     "data": {
      "image/png": "[encoded data removed]",
      "text/plain": [
       "<Figure size 432x288 with 1 Axes>"
      ]
     },
     "metadata": {
      "needs_background": "light"
     },
     "output_type": "display_data"
    }
   ],
   "source": [
    "def graph_feature_importances(model, feature_names, autoscale = True, headroom = .05, width = 10, summarized_columns = None):\n",
    "    if autoscale:\n",
    "        x_scale = model.feature_importances_.max() + headroom\n",
    "    else:\n",
    "        x_scale = 1\n",
    "        \n",
    "    feature_dict = dict(zip(feature_names, model.feature_importances_))\n",
    "    \n",
    "    if summarized_columns:\n",
    "        for col_name in summarized_columns:\n",
    "            sum_value = sum(x for i, x in feature_dict.items() if col_name in i)\n",
    "            \n",
    "            keys_to_remove = [i for i in feature_dict.keys() if col_name in i]\n",
    "            \n",
    "            for i in keys_to_remove:\n",
    "                feature_dict.pop(i)\n",
    "            \n",
    "            feature_dict[col_name] = sum_value\n",
    "            \n",
    "    results = pd.DataFrame.from_dict(feature_dict, orient = 'index', columns = ['Value'])\n",
    "    results.sort_values(by = 'Value', inplace = True)\n",
    "    results.plot(kind = 'barh')\n",
    "    \n",
    "    \n",
    "graph_feature_importances(model, keep)"
   ]
  },
  {
   "cell_type": "markdown",
   "metadata": {},
   "source": [
    "### Run Cross Val on full set of X2"
   ]
  },
  {
   "cell_type": "code",
   "execution_count": 73,
   "metadata": {},
   "outputs": [
    {
     "data": {
      "text/plain": [
       "array([0.58487633, 0.56147397, 0.53581226])"
      ]
     },
     "execution_count": 73,
     "metadata": {},
     "output_type": "execute_result"
    }
   ],
   "source": [
    "scores = cross_val_score(model, scaler.transform(X2), y, cv=3, scoring = 'precision')\n",
    "scores"
   ]
  },
  {
   "cell_type": "markdown",
   "metadata": {},
   "source": [
    "### We'll Try another validation using my Mentor Max Sop's grid_earch_wrapper function"
   ]
  },
  {
   "cell_type": "code",
   "execution_count": 13,
   "metadata": {},
   "outputs": [],
   "source": [
    "rfc=RandomForestClassifier(random_state=42, n_jobs=-1, class_weight='balanced_subsample', min_samples_split=2, n_estimators=50, bootstrap = False)"
   ]
  },
  {
   "cell_type": "code",
   "execution_count": 23,
   "metadata": {},
   "outputs": [],
   "source": [
    "from sklearn.metrics import make_scorer\n",
    "from sklearn.model_selection import StratifiedKFold, KFold\n",
    "param_grid = {\n",
    "    'min_samples_split': [2],\n",
    "    'n_estimators' : [100],\n",
    "    'max_depth': [None],\n",
    "    'max_features': ['auto']\n",
    "}\n",
    "\n",
    "scorers = {\n",
    "#     'sensitivity_score': make_scorer(recall_score(pos_label=1)),\n",
    "    'precision_score': make_scorer(precision_score),\n",
    "    'roc_auc_score': make_scorer(roc_auc_score)\n",
    "}"
   ]
  },
  {
   "cell_type": "code",
   "execution_count": 33,
   "metadata": {},
   "outputs": [],
   "source": [
    "def grid_search_wrapper(refit_score='recall_score', model=rfc, grid_search=param_grid,\n",
    "                        X_train = X_train, Y_train = y_train, X_val = X_test, Y_val = y_test):\n",
    "    \"\"\"\n",
    "    fits a GridSearchCV classifier using refit_score for optimization\n",
    "    prints classifier performance metrics\n",
    "    \"\"\"\n",
    "    skf = StratifiedKFold(n_splits=10)\n",
    "    grid_search = GridSearchCV(model, grid_search, scoring=scorers, refit=refit_score,\n",
    "                           cv=skf, return_train_score=True, n_jobs=-1)\n",
    "    grid_search.fit(X_train, Y_train)\n",
    "\n",
    "    # make the predictions\n",
    "    y_pred = grid_search.predict(X_val)\n",
    "    print(grid_search.score(X_val, Y_val))\n",
    "\n",
    "    print('\\nBest params for {}'.format(refit_score))\n",
    "    \n",
    "    # confusion matrix on the test data.\n",
    "    print('\\nConfusion matrix of Random Forest optimized for {} on the test data:'.format(refit_score))\n",
    "    print(pd.DataFrame(confusion_matrix(y_true=Y_val, y_pred=y_pred),\n",
    "                 columns=['pred_neg', 'pred_pos'], index=['neg', 'pos']))\n",
    "    print(classification_report(y_pred=y_pred, y_true=Y_val))\n",
    "    return grid_search"
   ]
  },
  {
   "cell_type": "code",
   "execution_count": 34,
   "metadata": {},
   "outputs": [],
   "source": [
    "X_train, X_test, y_train, y_test = train_test_split(X2, y, test_size = .25, random_state = 42)\n",
    "\n",
    "scaler =StandardScaler().fit(X_train)\n",
    "\n"
   ]
  },
  {
   "cell_type": "code",
   "execution_count": 39,
   "metadata": {},
   "outputs": [
    {
     "name": "stdout",
     "output_type": "stream",
     "text": [
      "0.9235896417978543\n",
      "\n",
      "Best params for roc_auc_score\n",
      "\n",
      "Confusion matrix of Random Forest optimized for roc_auc_score on the test data:\n",
      "     pred_neg  pred_pos\n",
      "neg     54804      5929\n",
      "pos      4469     76496\n",
      "              precision    recall  f1-score   support\n",
      "\n",
      "           0       0.92      0.90      0.91     60733\n",
      "           1       0.93      0.94      0.94     80965\n",
      "\n",
      "    accuracy                           0.93    141698\n",
      "   macro avg       0.93      0.92      0.92    141698\n",
      "weighted avg       0.93      0.93      0.93    141698\n",
      "\n"
     ]
    }
   ],
   "source": [
    "grid_search_clf = grid_search_wrapper(refit_score='roc_auc_score', model=rfc, grid_search=param_grid,\n",
    "                                      X_train=scaler.transform(X_train), Y_train=y_train, X_val=scaler.transform(X_test),\n",
    "                                      Y_val=y_test)"
   ]
  },
  {
   "cell_type": "markdown",
   "metadata": {},
   "source": [
    "### Max's grid search wrap method returns us back to accuracy and precision scores of over 90%. Overall, accuracy results appear to be mixed. The only way to truly test the performance will be to put this into production and run some live tests on the data. I will continue to monitor the progress over the next 60 days testing on live unseen data without making any stock trading decisions"
   ]
  },
  {
   "cell_type": "code",
   "execution_count": null,
   "metadata": {},
   "outputs": [],
   "source": []
  }
 ],
 "metadata": {
  "kernelspec": {
   "display_name": "Python 3.7.6 64-bit ('base': conda)",
   "language": "python",
   "name": "python37664bitbasecondaa8b2bb7a1475404398bd16ebfacc95c1"
  },
  "language_info": {
   "codemirror_mode": {
    "name": "ipython",
    "version": 3
   },
   "file_extension": ".py",
   "mimetype": "text/x-python",
   "name": "python",
   "nbconvert_exporter": "python",
   "pygments_lexer": "ipython3",
   "version": "3.7.6"
  }
 },
 "nbformat": 4,
 "nbformat_minor": 4
}
