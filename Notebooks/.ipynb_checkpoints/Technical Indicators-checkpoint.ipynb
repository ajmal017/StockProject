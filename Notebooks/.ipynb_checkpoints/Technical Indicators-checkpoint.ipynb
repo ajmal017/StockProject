{
 "cells": [
  {
   "cell_type": "code",
   "execution_count": 1,
   "metadata": {},
   "outputs": [],
   "source": [
    "import pandas as pd\n",
    "import yfinance as yf\n",
    "import numpy as np\n",
    "from sklearn.linear_model import LinearRegression\n",
    "import statsmodels.api as sm\n",
    "from matplotlib import pyplot as plt\n",
    "import seaborn as sns\n",
    "import os"
   ]
  },
  {
   "cell_type": "code",
   "execution_count": 2,
   "metadata": {},
   "outputs": [
    {
     "name": "stdout",
     "output_type": "stream",
     "text": [
      "Last Day:  2020-08-10\n"
     ]
    }
   ],
   "source": [
    "#import Historical Pricing Data\n",
    "os.chdir(r'C:\\Users\\nmur1\\Google Drive\\Springboard\\Capstone2\\CleanData')\n",
    "dfHistorical = pd.read_csv('Daily Pricing Detail.csv').dropna()\n",
    "dfHistQuant = pd.read_csv('Historical Quant Prices.csv')\n",
    "print('Last Day: ', dfHistorical.Date.max())"
   ]
  },
  {
   "cell_type": "code",
   "execution_count": 3,
   "metadata": {},
   "outputs": [],
   "source": [
    "dfHistorical = dfHistorical[dfHistorical.Date < '2020-08-10']\n",
    "lastday = dfHistorical.Date.max()"
   ]
  },
  {
   "cell_type": "code",
   "execution_count": 4,
   "metadata": {},
   "outputs": [],
   "source": [
    "#define date for new stock price download\n",
    "sdate = '2020-08-10'"
   ]
  },
  {
   "cell_type": "code",
   "execution_count": 5,
   "metadata": {},
   "outputs": [],
   "source": [
    "#import S&P stocks to download\n",
    "importpath = r'C:\\Users\\nmur1\\Google Drive\\Springboard\\Capstone2\\Stock Import Lists'\n",
    "importfile = 'SandP.csv'\n",
    "exportpath = r'C:\\Users\\nmur1\\Google Drive\\Springboard\\Capstone2\\CleanData'\n",
    "exportfile = 'Momentum'\n",
    "os.chdir(importpath)\n",
    "\n",
    "stocks = pd.read_csv(importfile, encoding= 'unicode_escape')\n"
   ]
  },
  {
   "cell_type": "code",
   "execution_count": null,
   "metadata": {},
   "outputs": [],
   "source": [
    "#download new stock data\n",
    "df = yf.download(list(stocks.Symbol), start = sdate, progress = True ).reset_index()\n",
    "df = df.melt(id_vars = 'Date', var_name = ['Type', 'Ticker']).set_index(['Date','Ticker']).pivot(columns = 'Type').reset_index()\n",
    "df.columns = df.columns.droplevel(0)\n",
    "columns = list(df.columns)\n",
    "columns[0] = 'Date'\n",
    "columns[1] = 'Ticker'\n",
    "df.columns = columns\n",
    "df = df.sort_values(by = ['Ticker', 'Date'])\n",
    "df = df.dropna()"
   ]
  },
  {
   "cell_type": "code",
   "execution_count": null,
   "metadata": {},
   "outputs": [],
   "source": [
    "#append to historical list\n",
    "\n",
    "df = df[dfHistorical.columns]\n",
    "dfNew = pd.concat([dfHistorical, df])\n",
    "dfNew.Date = pd.to_datetime(dfNew.Date)\n",
    "dfNew = dfNew.sort_values(by = ['Ticker', 'Date'])\n",
    "\n",
    "\n"
   ]
  },
  {
   "cell_type": "code",
   "execution_count": null,
   "metadata": {},
   "outputs": [],
   "source": [
    "#Quantitative Analysis Functions\n",
    "\n",
    "\n",
    "\n",
    "def TR(row, axis = 1):\n",
    "    \n",
    "    H = row['High']\n",
    "    L = row['Low']\n",
    "    C = row['Close']\n",
    "    yC = row['yC']\n",
    "    \n",
    "    return max((H-L), abs(H-yC), abs(L-yC))\n",
    "\n",
    "\n",
    "\n",
    "def DM(row, axis = 1, d = 'PDM'):\n",
    "    \n",
    "    \n",
    "    tH = row['High']\n",
    "    yH = row['yH']\n",
    "    \n",
    "    tL = row['Low']\n",
    "    yL  = row['yL']\n",
    "    \n",
    "    moveUp = tH - yH\n",
    "    moveDown = yL - tL\n",
    "    \n",
    "    #calculate PDM\n",
    "    if moveUp > 0 and moveUp > moveDown:\n",
    "        PDM = moveUp\n",
    "    else:\n",
    "        PDM = 0\n",
    "    \n",
    "   #calculate NDM\n",
    "    if moveDown > 0 and moveDown > moveUp:\n",
    "        NDM = moveDown\n",
    "    else:\n",
    "        NDM = 0\n",
    "        \n",
    "    if d == 'PDM':\n",
    "        return PDM\n",
    "    else:\n",
    "        return NDM\n",
    "\n",
    "    \n",
    "def Smoothed(Metric, period, ADX = False):\n",
    "    \n",
    "    if ADX == False:\n",
    "        Base = Metric.rolling(window = period).mean()[period-1]\n",
    "    else:\n",
    "        Base = Metric.rolling(window = period).mean()[period*2 - 1]\n",
    "    \n",
    "    Metric = list(Metric)\n",
    "    period = period -1\n",
    "    lstlen = len(Metric)\n",
    "    lstSmoothed = np.empty(lstlen)\n",
    "\n",
    "    for i in range(lstlen):\n",
    "\n",
    "        if i < period:\n",
    "            lstSmoothed[i] = 0\n",
    "        elif i == period:\n",
    "            lstSmoothed[i] = Base\n",
    "        else:\n",
    "            lstSmoothed[i] = (lstSmoothed[i-1] * period + Metric[i])/(period + 1)\n",
    "\n",
    "\n",
    "    return lstSmoothed\n",
    "\n",
    "def Slope(Metric, lookback):\n",
    "    reg = LinearRegression()\n",
    "\n",
    "\n",
    "    time = np.arange(0,lookback,1)\n",
    "    lstlen = len(Metric)\n",
    "    sl = np.empty(lstlen)\n",
    "    \n",
    "    for i in range(lstlen):\n",
    "        \n",
    "        \n",
    "        \n",
    "        y = np.array(Metric[i-(lookback-1):(i+1)]).reshape(-1,1)\n",
    "        X = time.reshape(-1,1)\n",
    "        \n",
    "        if np.isnan(y).sum() > 0:\n",
    "            sl[i]=0\n",
    "        else:\n",
    "            \n",
    "            if len(y) == lookback:\n",
    "                reg.fit(X,y)\n",
    "                sl[i] = reg.coef_\n",
    "                \n",
    "                \n",
    "    return sl"
   ]
  },
  {
   "cell_type": "code",
   "execution_count": null,
   "metadata": {},
   "outputs": [],
   "source": [
    "def Momentum(dfPrices):\n",
    "\n",
    "    m = []\n",
    "    tickers = list(dfPrices.Ticker.value_counts().index)\n",
    "    dfPrices = dfPrices.set_index('Date')\n",
    "    for t in tickers:\n",
    "        try:\n",
    "            \n",
    "            df = dfPrices[dfPrices.Ticker == t]\n",
    "            df =df.drop(columns = 'Ticker')\n",
    "            \n",
    "            \n",
    "            df['yH'] = df[['High']].shift(1)\n",
    "            df['yL'] = df[['Low']].shift(1)\n",
    "            df['yC'] = df[['Close']].shift(1)\n",
    "\n",
    "            df['PDM'] = df.apply(DM, axis = 1, d='PDM')\n",
    "            df['NDM'] = df.apply(DM, axis = 1,d = 'NDM')\n",
    "            df['TR'] = df.apply(TR, axis = 1)\n",
    "\n",
    "            ATR = Smoothed(df['TR'], 14)\n",
    "            PDM_Smooth = Smoothed(df['PDM'], 14)\n",
    "            NDM_Smooth =Smoothed(df['NDM'], 14)\n",
    "            DI_Plus = PDM_Smooth/ATR * 100\n",
    "            DI_Neg = NDM_Smooth/ATR * 100\n",
    "            DI_Index =abs(DI_Plus - DI_Neg)/abs(DI_Plus+ DI_Neg) * 100\n",
    "            ADX =Smoothed(pd.Series(DI_Index), 14, ADX = True)\n",
    "\n",
    "\n",
    "            dfATR = pd.DataFrame(ATR, index = df.index, columns = ['ATR'])\n",
    "            dfDI_Plus = pd.DataFrame(DI_Plus, index = df.index, columns = ['DI_Plus'])\n",
    "            dfDI_Neg = pd.DataFrame(DI_Neg, index = df.index, columns = ['DI_Neg'])\n",
    "            ADX = pd.DataFrame(ADX, index = df.index, columns = ['ADX'])\n",
    "            dfNew = pd.concat([df,dfATR, dfDI_Plus, dfDI_Neg, ADX], axis = 1)\n",
    "\n",
    "            DIN_Slope = pd.DataFrame(Slope(dfNew.DI_Neg,7), index = dfNew.index, columns = ['DI_Neg_Slope'])\n",
    "            DIP_Slope = pd.DataFrame(Slope(dfNew.DI_Plus,7), index = dfNew.index, columns = ['DI_Plus_Slope'])\n",
    "\n",
    "            dfNew = pd.concat([dfNew, DIN_Slope, DIP_Slope ], axis = 1)\n",
    "\n",
    "\n",
    "            dfNew = dfNew[['Close', 'DI_Plus', 'DI_Neg', 'ADX', 'DI_Neg_Slope', 'DI_Plus_Slope']]\n",
    "            dfNew['SMA'] = dfNew['Close'].rolling(window = 20).mean()\n",
    "            dfNew['UpperB'] = dfNew.SMA + dfNew['Close'].rolling(window = 20).agg(np.std, ddof = 0) * 2\n",
    "            dfNew['LowerB'] = dfNew.SMA - dfNew['Close'].rolling(window = 20).agg(np.std, ddof = 0) * 2\n",
    "\n",
    "\n",
    "            dfNew['Off_SMA'] = (dfNew.Close - dfNew.SMA)/dfNew.SMA * 100\n",
    "            dfNew['Off_LB'] = (dfNew.Close - dfNew.LowerB)/dfNew.LowerB * 100\n",
    "            dfNew['Symbol'] = t\n",
    "            m.append(dfNew)\n",
    "        except:\n",
    "            print(t, ' not found')\n",
    "            \n",
    "    \n",
    "    return pd.concat(m)"
   ]
  },
  {
   "cell_type": "code",
   "execution_count": 6,
   "metadata": {},
   "outputs": [
    {
     "ename": "NameError",
     "evalue": "name 'dfNew' is not defined",
     "output_type": "error",
     "traceback": [
      "\u001b[1;31m---------------------------------------------------------------------------\u001b[0m",
      "\u001b[1;31mNameError\u001b[0m                                 Traceback (most recent call last)",
      "\u001b[1;32m<ipython-input-6-f3b961ee689c>\u001b[0m in \u001b[0;36m<module>\u001b[1;34m\u001b[0m\n\u001b[0;32m     10\u001b[0m \u001b[0mdelta\u001b[0m \u001b[1;33m=\u001b[0m \u001b[0mtday\u001b[0m \u001b[1;33m-\u001b[0m \u001b[0mtimedelta\u001b[0m\u001b[1;33m(\u001b[0m\u001b[1;36m200\u001b[0m\u001b[1;33m)\u001b[0m\u001b[1;33m\u001b[0m\u001b[1;33m\u001b[0m\u001b[0m\n\u001b[0;32m     11\u001b[0m \u001b[1;33m\u001b[0m\u001b[0m\n\u001b[1;32m---> 12\u001b[1;33m \u001b[0mdatefilter\u001b[0m \u001b[1;33m=\u001b[0m \u001b[0mdfNew\u001b[0m\u001b[1;33m.\u001b[0m\u001b[0mDate\u001b[0m \u001b[1;33m>\u001b[0m \u001b[0mdelta\u001b[0m\u001b[1;33m\u001b[0m\u001b[1;33m\u001b[0m\u001b[0m\n\u001b[0m\u001b[0;32m     13\u001b[0m \u001b[0mQuant\u001b[0m \u001b[1;33m=\u001b[0m \u001b[0mMomentum\u001b[0m\u001b[1;33m(\u001b[0m\u001b[0mdfNew\u001b[0m\u001b[1;33m[\u001b[0m\u001b[0mdatefilter\u001b[0m\u001b[1;33m]\u001b[0m\u001b[1;33m)\u001b[0m\u001b[1;33m\u001b[0m\u001b[1;33m\u001b[0m\u001b[0m\n\u001b[0;32m     14\u001b[0m \u001b[0mQuant\u001b[0m \u001b[1;33m=\u001b[0m \u001b[0mQuant\u001b[0m\u001b[1;33m.\u001b[0m\u001b[0mrest_index\u001b[0m\u001b[1;33m(\u001b[0m\u001b[1;33m)\u001b[0m\u001b[1;33m\u001b[0m\u001b[1;33m\u001b[0m\u001b[0m\n",
      "\u001b[1;31mNameError\u001b[0m: name 'dfNew' is not defined"
     ]
    }
   ],
   "source": [
    "from datetime import datetime, timedelta\n",
    "import warnings\n",
    "warnings.filterwarnings('ignore')\n",
    "pd.options.display.float_format = '{:.4f}'.format\n",
    "\n",
    "#calculate new metrics\n",
    "#need a solid year of data to properly calculate ADX, DI_Plus, DI_Neg\n",
    "\n",
    "tday = datetime.today()\n",
    "delta = tday - timedelta(200)\n",
    "\n",
    "datefilter = dfNew.Date > delta\n",
    "Quant = Momentum(dfNew[datefilter])\n",
    "Quant = Quant.rest_index()"
   ]
  },
  {
   "cell_type": "code",
   "execution_count": null,
   "metadata": {},
   "outputs": [],
   "source": [
    "Quant = Quant[Quant.Date > lastday]\n"
   ]
  },
  {
   "cell_type": "code",
   "execution_count": null,
   "metadata": {},
   "outputs": [],
   "source": [
    "Quant"
   ]
  },
  {
   "cell_type": "code",
   "execution_count": null,
   "metadata": {},
   "outputs": [],
   "source": [
    "os.chdir(exportpath)\n",
    "Quant = Quant.dropna()\n",
    "Quant.to_csv('Historical Quant Prices.csv')\n",
    "dfNew.to_csv('Daily Pricing Detail.csv')"
   ]
  }
 ],
 "metadata": {
  "kernelspec": {
   "display_name": "Python 3.7.6 64-bit ('base': conda)",
   "language": "python",
   "name": "python37664bitbasecondaa8b2bb7a1475404398bd16ebfacc95c1"
  },
  "language_info": {
   "codemirror_mode": {
    "name": "ipython",
    "version": 3
   },
   "file_extension": ".py",
   "mimetype": "text/x-python",
   "name": "python",
   "nbconvert_exporter": "python",
   "pygments_lexer": "ipython3",
   "version": "3.7.6"
  }
 },
 "nbformat": 4,
 "nbformat_minor": 4
}
