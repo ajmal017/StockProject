{
 "cells": [
  {
   "cell_type": "markdown",
   "metadata": {},
   "source": [
    "# Capstone 2 - Preprocessing, Feature Selection and Final Testing"
   ]
  },
  {
   "cell_type": "code",
   "execution_count": 1,
   "metadata": {},
   "outputs": [],
   "source": [
    "#import models\n",
    "from sklearn.model_selection import GridSearchCV\n",
    "import pandas as pd\n",
    "import numpy as np\n",
    "from matplotlib import pyplot as plt\n",
    "import seaborn as sns\n",
    "import os\n",
    "from sklearn.metrics import roc_auc_score\n",
    "from sklearn.model_selection import train_test_split\n",
    "from sklearn.metrics import plot_confusion_matrix, precision_score, recall_score, f1_score, accuracy_score\n",
    "from sklearn.tree import DecisionTreeClassifier\n",
    "from sklearn.ensemble import RandomForestClassifier,AdaBoostClassifier,GradientBoostingClassifier\n",
    "from sklearn.model_selection import cross_val_score\n",
    "from sklearn.model_selection import RandomizedSearchCV\n",
    "from sklearn.preprocessing import StandardScaler"
   ]
  },
  {
   "cell_type": "code",
   "execution_count": 2,
   "metadata": {},
   "outputs": [
    {
     "data": {
      "text/plain": [
       "(568840, 26)"
      ]
     },
     "execution_count": 2,
     "metadata": {},
     "output_type": "execute_result"
    }
   ],
   "source": [
    "## bring in final clean dataset\n",
    "\n",
    "import os\n",
    "importpath = r'C:\\Users\\nmur1\\Google Drive\\Springboard\\Capstone2\\CleanData'\n",
    "os.chdir(importpath)\n",
    "dfmodel = pd.read_csv('FinalModelingSet.csv', index_col = None).drop(columns = 'Unnamed: 0')\n",
    "dfmodel.shape"
   ]
  },
  {
   "cell_type": "markdown",
   "metadata": {},
   "source": [
    "#### 1. Found some duplicated rows in tableau analysis. Review and drop"
   ]
  },
  {
   "cell_type": "code",
   "execution_count": 3,
   "metadata": {},
   "outputs": [],
   "source": [
    "dfmodel[dfmodel.loc[:,:'E_Season'].duplicated()]\n",
    "duped = dfmodel.loc[:,:'E_Season'].columns"
   ]
  },
  {
   "cell_type": "code",
   "execution_count": 4,
   "metadata": {},
   "outputs": [
    {
     "data": {
      "text/plain": [
       "(566789, 26)"
      ]
     },
     "execution_count": 4,
     "metadata": {},
     "output_type": "execute_result"
    }
   ],
   "source": [
    "dfmodel = dfmodel.drop_duplicates(subset = duped)\n",
    "dfmodel.shape"
   ]
  },
  {
   "cell_type": "markdown",
   "metadata": {},
   "source": [
    "Get X and Y set up for modeling.\n",
    "* y will be the Thirty Day future average price prediction.\n",
    "* Drop Sixty Day and Five Day predicitons. Initial testing found that five days was unpredictable and not a good fit for this model. Thirty and Sixty day were similar so decided to go with thirty day for y\n",
    "* take out Date and Ticker. Not dependant variables\n",
    "* DI_Plus_R, Sales, Sector, Percent_Buy, Pos_Coef were taken out during recurisive feature elimination"
   ]
  },
  {
   "cell_type": "code",
   "execution_count": 5,
   "metadata": {},
   "outputs": [
    {
     "data": {
      "text/html": [
       "<div>\n",
       "<style scoped>\n",
       "    .dataframe tbody tr th:only-of-type {\n",
       "        vertical-align: middle;\n",
       "    }\n",
       "\n",
       "    .dataframe tbody tr th {\n",
       "        vertical-align: top;\n",
       "    }\n",
       "\n",
       "    .dataframe thead th {\n",
       "        text-align: right;\n",
       "    }\n",
       "</style>\n",
       "<table border=\"1\" class=\"dataframe\">\n",
       "  <thead>\n",
       "    <tr style=\"text-align: right;\">\n",
       "      <th></th>\n",
       "      <th>count</th>\n",
       "      <th>mean</th>\n",
       "      <th>std</th>\n",
       "      <th>min</th>\n",
       "      <th>25%</th>\n",
       "      <th>50%</th>\n",
       "      <th>75%</th>\n",
       "      <th>max</th>\n",
       "    </tr>\n",
       "  </thead>\n",
       "  <tbody>\n",
       "    <tr>\n",
       "      <th>DI_Plus</th>\n",
       "      <td>566789.0</td>\n",
       "      <td>23.772818</td>\n",
       "      <td>7.475296</td>\n",
       "      <td>1.101115</td>\n",
       "      <td>18.490152</td>\n",
       "      <td>23.396812</td>\n",
       "      <td>28.567831</td>\n",
       "      <td>75.540116</td>\n",
       "    </tr>\n",
       "    <tr>\n",
       "      <th>ADX</th>\n",
       "      <td>566789.0</td>\n",
       "      <td>24.175524</td>\n",
       "      <td>9.798024</td>\n",
       "      <td>4.842246</td>\n",
       "      <td>16.796787</td>\n",
       "      <td>22.203587</td>\n",
       "      <td>29.683063</td>\n",
       "      <td>77.260194</td>\n",
       "    </tr>\n",
       "    <tr>\n",
       "      <th>CMF</th>\n",
       "      <td>566789.0</td>\n",
       "      <td>0.036130</td>\n",
       "      <td>0.155913</td>\n",
       "      <td>-0.768655</td>\n",
       "      <td>-0.069970</td>\n",
       "      <td>0.034903</td>\n",
       "      <td>0.141323</td>\n",
       "      <td>0.764770</td>\n",
       "    </tr>\n",
       "    <tr>\n",
       "      <th>DI_Plus_Slope</th>\n",
       "      <td>566789.0</td>\n",
       "      <td>0.004983</td>\n",
       "      <td>0.702447</td>\n",
       "      <td>-3.133228</td>\n",
       "      <td>-0.472362</td>\n",
       "      <td>-0.019919</td>\n",
       "      <td>0.455660</td>\n",
       "      <td>4.269575</td>\n",
       "    </tr>\n",
       "    <tr>\n",
       "      <th>Off_SMA</th>\n",
       "      <td>566789.0</td>\n",
       "      <td>0.326084</td>\n",
       "      <td>5.071152</td>\n",
       "      <td>-76.959239</td>\n",
       "      <td>-1.761967</td>\n",
       "      <td>0.649648</td>\n",
       "      <td>2.824221</td>\n",
       "      <td>76.286777</td>\n",
       "    </tr>\n",
       "    <tr>\n",
       "      <th>Off_LB</th>\n",
       "      <td>566789.0</td>\n",
       "      <td>6.823473</td>\n",
       "      <td>43.658550</td>\n",
       "      <td>-16885.314841</td>\n",
       "      <td>2.302087</td>\n",
       "      <td>4.803678</td>\n",
       "      <td>8.666090</td>\n",
       "      <td>12546.385488</td>\n",
       "    </tr>\n",
       "    <tr>\n",
       "      <th>eps</th>\n",
       "      <td>566789.0</td>\n",
       "      <td>4.476524</td>\n",
       "      <td>9.463281</td>\n",
       "      <td>-35.530000</td>\n",
       "      <td>1.630000</td>\n",
       "      <td>3.190000</td>\n",
       "      <td>5.400000</td>\n",
       "      <td>241.290000</td>\n",
       "    </tr>\n",
       "    <tr>\n",
       "      <th>ROE</th>\n",
       "      <td>566789.0</td>\n",
       "      <td>0.046136</td>\n",
       "      <td>3.224663</td>\n",
       "      <td>-105.913043</td>\n",
       "      <td>0.071360</td>\n",
       "      <td>0.132320</td>\n",
       "      <td>0.245509</td>\n",
       "      <td>57.800000</td>\n",
       "    </tr>\n",
       "    <tr>\n",
       "      <th>D2C</th>\n",
       "      <td>566789.0</td>\n",
       "      <td>21.401924</td>\n",
       "      <td>73.322259</td>\n",
       "      <td>0.000000</td>\n",
       "      <td>1.430524</td>\n",
       "      <td>4.299522</td>\n",
       "      <td>14.358071</td>\n",
       "      <td>1308.970684</td>\n",
       "    </tr>\n",
       "    <tr>\n",
       "      <th>epsgrowth</th>\n",
       "      <td>566789.0</td>\n",
       "      <td>63.505620</td>\n",
       "      <td>1202.743595</td>\n",
       "      <td>-19844.380000</td>\n",
       "      <td>-2.620000</td>\n",
       "      <td>1.240000</td>\n",
       "      <td>33.790000</td>\n",
       "      <td>41516.180000</td>\n",
       "    </tr>\n",
       "    <tr>\n",
       "      <th>PE_Ratio</th>\n",
       "      <td>566789.0</td>\n",
       "      <td>27.544929</td>\n",
       "      <td>207.743009</td>\n",
       "      <td>-5624.099998</td>\n",
       "      <td>14.004716</td>\n",
       "      <td>21.740347</td>\n",
       "      <td>32.937166</td>\n",
       "      <td>4356.700001</td>\n",
       "    </tr>\n",
       "    <tr>\n",
       "      <th>Relative_PE</th>\n",
       "      <td>566789.0</td>\n",
       "      <td>-0.012584</td>\n",
       "      <td>74.039178</td>\n",
       "      <td>-4229.025301</td>\n",
       "      <td>-0.493800</td>\n",
       "      <td>-0.072746</td>\n",
       "      <td>1.328766</td>\n",
       "      <td>520.927030</td>\n",
       "    </tr>\n",
       "    <tr>\n",
       "      <th>Sales_Ratio</th>\n",
       "      <td>566789.0</td>\n",
       "      <td>3.533480</td>\n",
       "      <td>3.579577</td>\n",
       "      <td>0.000000</td>\n",
       "      <td>1.185544</td>\n",
       "      <td>2.418976</td>\n",
       "      <td>4.536638</td>\n",
       "      <td>38.106072</td>\n",
       "    </tr>\n",
       "    <tr>\n",
       "      <th>Relative_SR</th>\n",
       "      <td>566789.0</td>\n",
       "      <td>0.000603</td>\n",
       "      <td>0.931222</td>\n",
       "      <td>-1.000000</td>\n",
       "      <td>-0.573203</td>\n",
       "      <td>-0.194273</td>\n",
       "      <td>0.298647</td>\n",
       "      <td>15.782116</td>\n",
       "    </tr>\n",
       "    <tr>\n",
       "      <th>E_Season</th>\n",
       "      <td>566789.0</td>\n",
       "      <td>0.210299</td>\n",
       "      <td>0.407521</td>\n",
       "      <td>0.000000</td>\n",
       "      <td>0.000000</td>\n",
       "      <td>0.000000</td>\n",
       "      <td>0.000000</td>\n",
       "      <td>1.000000</td>\n",
       "    </tr>\n",
       "    <tr>\n",
       "      <th>SignalVar</th>\n",
       "      <td>566789.0</td>\n",
       "      <td>0.998907</td>\n",
       "      <td>0.070979</td>\n",
       "      <td>0.000000</td>\n",
       "      <td>0.986393</td>\n",
       "      <td>1.004985</td>\n",
       "      <td>1.021637</td>\n",
       "      <td>1.451043</td>\n",
       "    </tr>\n",
       "  </tbody>\n",
       "</table>\n",
       "</div>"
      ],
      "text/plain": [
       "                  count       mean          std           min        25%  \\\n",
       "DI_Plus        566789.0  23.772818     7.475296      1.101115  18.490152   \n",
       "ADX            566789.0  24.175524     9.798024      4.842246  16.796787   \n",
       "CMF            566789.0   0.036130     0.155913     -0.768655  -0.069970   \n",
       "DI_Plus_Slope  566789.0   0.004983     0.702447     -3.133228  -0.472362   \n",
       "Off_SMA        566789.0   0.326084     5.071152    -76.959239  -1.761967   \n",
       "Off_LB         566789.0   6.823473    43.658550 -16885.314841   2.302087   \n",
       "eps            566789.0   4.476524     9.463281    -35.530000   1.630000   \n",
       "ROE            566789.0   0.046136     3.224663   -105.913043   0.071360   \n",
       "D2C            566789.0  21.401924    73.322259      0.000000   1.430524   \n",
       "epsgrowth      566789.0  63.505620  1202.743595 -19844.380000  -2.620000   \n",
       "PE_Ratio       566789.0  27.544929   207.743009  -5624.099998  14.004716   \n",
       "Relative_PE    566789.0  -0.012584    74.039178  -4229.025301  -0.493800   \n",
       "Sales_Ratio    566789.0   3.533480     3.579577      0.000000   1.185544   \n",
       "Relative_SR    566789.0   0.000603     0.931222     -1.000000  -0.573203   \n",
       "E_Season       566789.0   0.210299     0.407521      0.000000   0.000000   \n",
       "SignalVar      566789.0   0.998907     0.070979      0.000000   0.986393   \n",
       "\n",
       "                     50%        75%           max  \n",
       "DI_Plus        23.396812  28.567831     75.540116  \n",
       "ADX            22.203587  29.683063     77.260194  \n",
       "CMF             0.034903   0.141323      0.764770  \n",
       "DI_Plus_Slope  -0.019919   0.455660      4.269575  \n",
       "Off_SMA         0.649648   2.824221     76.286777  \n",
       "Off_LB          4.803678   8.666090  12546.385488  \n",
       "eps             3.190000   5.400000    241.290000  \n",
       "ROE             0.132320   0.245509     57.800000  \n",
       "D2C             4.299522  14.358071   1308.970684  \n",
       "epsgrowth       1.240000  33.790000  41516.180000  \n",
       "PE_Ratio       21.740347  32.937166   4356.700001  \n",
       "Relative_PE    -0.072746   1.328766    520.927030  \n",
       "Sales_Ratio     2.418976   4.536638     38.106072  \n",
       "Relative_SR    -0.194273   0.298647     15.782116  \n",
       "E_Season        0.000000   0.000000      1.000000  \n",
       "SignalVar       1.004985   1.021637      1.451043  "
      ]
     },
     "execution_count": 5,
     "metadata": {},
     "output_type": "execute_result"
    }
   ],
   "source": [
    "drop = ['Thirty_Day', 'Sixty_Day', 'Five_Day', 'Date', 'Ticker', \n",
    "        'Sector', 'DI_Plus_R', 'Sales', 'Percent_Buy', 'Pos_Coef']\n",
    "\n",
    "y = dfmodel['Thirty_Day'].ravel()\n",
    "X = dfmodel.drop(columns =drop)\n",
    "\n",
    "\n",
    "#First Run of Features\n",
    "X.describe().T"
   ]
  },
  {
   "cell_type": "markdown",
   "metadata": {},
   "source": [
    "### 3. Initialize model, train test split, fit model and scale"
   ]
  },
  {
   "cell_type": "code",
   "execution_count": 6,
   "metadata": {},
   "outputs": [
    {
     "data": {
      "text/plain": [
       "RandomForestClassifier(bootstrap=False, ccp_alpha=0.0, class_weight=None,\n",
       "                       criterion='gini', max_depth=None, max_features='auto',\n",
       "                       max_leaf_nodes=None, max_samples=None,\n",
       "                       min_impurity_decrease=0.0, min_impurity_split=None,\n",
       "                       min_samples_leaf=1, min_samples_split=2,\n",
       "                       min_weight_fraction_leaf=0.0, n_estimators=100,\n",
       "                       n_jobs=-1, oob_score=False, random_state=42, verbose=0,\n",
       "                       warm_start=False)"
      ]
     },
     "execution_count": 6,
     "metadata": {},
     "output_type": "execute_result"
    }
   ],
   "source": [
    "#initilize Random Forest Class with best parameters determined in Randomized Search CV\n",
    "model = RandomForestClassifier(100, n_jobs = -1, random_state = 42, min_samples_leaf = 1, criterion = \"gini\", min_samples_split = 2, bootstrap = False)\n",
    "\n",
    "\n",
    "#train test split\n",
    "X_train, X_test, y_train, y_test = train_test_split(X, y, test_size = .25, random_state = 42)\n",
    "\n",
    "\n",
    "#set up the scaler for scaling\n",
    "scaler =StandardScaler().fit(X_train)\n",
    "\n",
    "#fit the model on scaled X_train and y_train\n",
    "model.fit(scaler.transform(X_train),y_train)\n"
   ]
  },
  {
   "cell_type": "markdown",
   "metadata": {},
   "source": [
    "### Run and Test Predicitons on Scaled X_Test"
   ]
  },
  {
   "cell_type": "code",
   "execution_count": 7,
   "metadata": {},
   "outputs": [],
   "source": [
    "ypred = model.predict(scaler.transform(X_test))"
   ]
  },
  {
   "cell_type": "code",
   "execution_count": 8,
   "metadata": {},
   "outputs": [
    {
     "name": "stdout",
     "output_type": "stream",
     "text": [
      "False Positives in Test: 5760\n",
      "Chance of FP's  4.06\n",
      "ROC: 0.926\n",
      "Accuracy 0.928\n",
      "Recall 0.946\n",
      "Precision 0.93\n",
      "F1 0.938\n"
     ]
    },
    {
     "data": {
      "image/png": "[encoded data removed]",
      "text/plain": [
       "<Figure size 432x288 with 2 Axes>"
      ]
     },
     "metadata": {
      "needs_background": "light"
     },
     "output_type": "display_data"
    }
   ],
   "source": [
    "from sklearn.metrics import confusion_matrix\n",
    "false_positives = confusion_matrix(y_test, ypred)[0][1]\n",
    "print('False Positives in Test:', false_positives)\n",
    "print(\"Chance of FP's \", round(false_positives / len(y_test),4) * 100)\n",
    "print('ROC:', round(roc_auc_score(y_test, ypred),3))\n",
    "print('Accuracy', round(accuracy_score(y_test,ypred),3))\n",
    "print('Recall', round(recall_score(y_test, ypred),3))\n",
    "print('Precision', round(precision_score(y_test, ypred),3))\n",
    "print('F1', round(f1_score(y_test, ypred),3))\n",
    "\n",
    "pd.reset_option('display.float_format')\n",
    "confmat = plot_confusion_matrix(model, scaler.transform(X_test), y_test, cmap=\"Blues\",values_format='.0f')\n"
   ]
  },
  {
   "cell_type": "code",
   "execution_count": 10,
   "metadata": {},
   "outputs": [],
   "source": [
    "skf = StratifiedKFold(n_splits=3)"
   ]
  },
  {
   "cell_type": "markdown",
   "metadata": {},
   "source": [
    "### Run Cross Val on full set of X"
   ]
  },
  {
   "cell_type": "code",
   "execution_count": 11,
   "metadata": {},
   "outputs": [
    {
     "data": {
      "text/plain": [
       "array([0.58510167, 0.56043122, 0.53779098])"
      ]
     },
     "execution_count": 11,
     "metadata": {},
     "output_type": "execute_result"
    }
   ],
   "source": [
    "from sklearn.model_selection import StratifiedKFold, KFold\n",
    "\n",
    "scores = cross_val_score(model, scaler.transform(X), y, cv=skf, scoring = 'precision')\n",
    "scores"
   ]
  },
  {
   "cell_type": "code",
   "execution_count": 15,
   "metadata": {},
   "outputs": [],
   "source": [
    "from sklearn.model_selection import cross_validate\n",
    "skf = StratifiedKFold(n_splits=3)\n",
    "grid_search = cross_validate(model, X_train, y_train, scoring='precision',\n",
    "                           cv=skf, return_train_score=True, n_jobs=-1)\n",
    "\n",
    "\n",
    "\n",
    "\n",
    "\n",
    " \n"
   ]
  },
  {
   "cell_type": "code",
   "execution_count": 17,
   "metadata": {},
   "outputs": [
    {
     "data": {
      "text/plain": [
       "{'fit_time': array([204.21389532, 209.45089626, 204.47719598]),\n",
       " 'score_time': array([3.95841432, 7.34536004, 4.71140289]),\n",
       " 'test_score': array([0.90786598, 0.90632732, 0.90618626]),\n",
       " 'train_score': array([1., 1., 1.])}"
      ]
     },
     "execution_count": 17,
     "metadata": {},
     "output_type": "execute_result"
    }
   ],
   "source": [
    "y_pred = cross_val"
   ]
  },
  {
   "cell_type": "code",
   "execution_count": 16,
   "metadata": {},
   "outputs": [
    {
     "ename": "AttributeError",
     "evalue": "'dict' object has no attribute 'predict'",
     "output_type": "error",
     "traceback": [
      "\u001b[1;31m---------------------------------------------------------------------------\u001b[0m",
      "\u001b[1;31mAttributeError\u001b[0m                            Traceback (most recent call last)",
      "\u001b[1;32m<ipython-input-16-9936bca8cfd4>\u001b[0m in \u001b[0;36m<module>\u001b[1;34m\u001b[0m\n\u001b[0;32m      1\u001b[0m \u001b[1;31m# make the predictions\u001b[0m\u001b[1;33m\u001b[0m\u001b[1;33m\u001b[0m\u001b[1;33m\u001b[0m\u001b[0m\n\u001b[1;32m----> 2\u001b[1;33m \u001b[0my_pred\u001b[0m \u001b[1;33m=\u001b[0m \u001b[0mgrid_search\u001b[0m\u001b[1;33m.\u001b[0m\u001b[0mpredict\u001b[0m\u001b[1;33m(\u001b[0m\u001b[0mX_val\u001b[0m\u001b[1;33m.\u001b[0m\u001b[0mvalues\u001b[0m\u001b[1;33m)\u001b[0m\u001b[1;33m\u001b[0m\u001b[1;33m\u001b[0m\u001b[0m\n\u001b[0m\u001b[0;32m      3\u001b[0m \u001b[0mprint\u001b[0m\u001b[1;33m(\u001b[0m\u001b[0mgrid_search\u001b[0m\u001b[1;33m.\u001b[0m\u001b[0mscore\u001b[0m\u001b[1;33m(\u001b[0m\u001b[0mX_val\u001b[0m\u001b[1;33m.\u001b[0m\u001b[0mvalues\u001b[0m\u001b[1;33m,\u001b[0m \u001b[0mY_val\u001b[0m\u001b[1;33m)\u001b[0m\u001b[1;33m)\u001b[0m\u001b[1;33m\u001b[0m\u001b[1;33m\u001b[0m\u001b[0m\n\u001b[0;32m      4\u001b[0m \u001b[1;33m\u001b[0m\u001b[0m\n\u001b[0;32m      5\u001b[0m \u001b[0mprint\u001b[0m\u001b[1;33m(\u001b[0m\u001b[1;34m'\\nBest params for {}'\u001b[0m\u001b[1;33m.\u001b[0m\u001b[0mformat\u001b[0m\u001b[1;33m(\u001b[0m\u001b[0mrefit_score\u001b[0m\u001b[1;33m)\u001b[0m\u001b[1;33m)\u001b[0m\u001b[1;33m\u001b[0m\u001b[1;33m\u001b[0m\u001b[0m\n",
      "\u001b[1;31mAttributeError\u001b[0m: 'dict' object has no attribute 'predict'"
     ]
    }
   ],
   "source": [
    "   # make the predictions\n",
    "y_pred = cross_val_predict(X_test)\n",
    "print(grid_search.score(X_test, y_t))\n",
    "\n",
    "print('\\nBest params for {}'.format(refit_score))\n",
    "    \n",
    "    # confusion matrix on the test data.\n",
    "print('\\nConfusion matrix of Random Forest optimized for {} on the test data:'.format(refit_score))\n",
    "print(pd.DataFrame(confusion_matrix(y_true=Y_val, y_pred=y_pred),\n",
    "                 columns=['pred_neg', 'pred_pos'], index=['neg', 'pos']))\n",
    "print(classification_report(y_pred=y_pred, y_true=Y_val))"
   ]
  },
  {
   "cell_type": "markdown",
   "metadata": {},
   "source": [
    "# Run Final Accruacy scores, graph feature importance, review confusion matrix for chosen model"
   ]
  },
  {
   "cell_type": "markdown",
   "metadata": {},
   "source": [
    "For this project I want to focus on maximizing Precision - minimizing false positive classifications\n",
    "A false positive would trigger a buy on a stock that will go down causing an actual loss. A false negative would mean I don't buy a stock that is actually going to go up; there would be opportunity cost but not an actual monetary loss.\n",
    "\n",
    "* Recall = True Positive / (True Positive + False Negative)\n",
    "* Precision = True Positive / (True Positive + False Positive)\n",
    "* F1 = (2 x Precision x Recall) / (Precision + Recall)"
   ]
  }
 ],
 "metadata": {
  "kernelspec": {
   "display_name": "Python 3.7.6 64-bit ('base': conda)",
   "language": "python",
   "name": "python37664bitbasecondaa8b2bb7a1475404398bd16ebfacc95c1"
  },
  "language_info": {
   "codemirror_mode": {
    "name": "ipython",
    "version": 3
   },
   "file_extension": ".py",
   "mimetype": "text/x-python",
   "name": "python",
   "nbconvert_exporter": "python",
   "pygments_lexer": "ipython3",
   "version": "3.7.6"
  }
 },
 "nbformat": 4,
 "nbformat_minor": 4
}
