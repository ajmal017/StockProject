{
 "cells": [
  {
   "cell_type": "code",
   "execution_count": 1,
   "metadata": {},
   "outputs": [],
   "source": [
    "from sklearn.model_selection import GridSearchCV\n",
    "import pandas as pd\n",
    "import yfinance as yf\n",
    "import numpy as np\n",
    "from sklearn.linear_model import LinearRegression\n",
    "import statsmodels.api as sm\n",
    "from matplotlib import pyplot as plt\n",
    "import seaborn as sns\n",
    "import os\n",
    "from sklearn.ensemble import RandomForestClassifier\n",
    "from sklearn.metrics import roc_auc_score\n",
    "from sklearn.model_selection import train_test_split\n",
    "import numpy as np\n",
    "from sklearn.metrics import accuracy_score\n",
    "from sklearn.metrics import plot_confusion_matrix\n",
    "from sklearn.metrics import precision_score, recall_score, f1_score\n"
   ]
  },
  {
   "cell_type": "code",
   "execution_count": 2,
   "metadata": {},
   "outputs": [
    {
     "data": {
      "text/plain": [
       "(557348, 42)"
      ]
     },
     "execution_count": 2,
     "metadata": {},
     "output_type": "execute_result"
    }
   ],
   "source": [
    "importpath = r'C:\\Users\\nmur1\\Google Drive\\Springboard\\Capstone2\\CleanData'\n",
    "os.chdir(importpath)\n",
    "\n",
    "#import datasets from cleaning\n",
    "quant = 'Relative Change.csv'\n",
    "df = pd.read_csv(quant).drop(columns = 'Unnamed: 0').dropna()\n",
    "df['DI_Plus_R'] = df['DI_Plus_R'].replace([np.inf, -np.inf], 0)\n",
    "df['DI_Neg_R'] = df['DI_Neg_R'].replace([np.inf, -np.inf], 0)\n",
    "\n",
    "df.shape"
   ]
  },
  {
   "cell_type": "code",
   "execution_count": 3,
   "metadata": {},
   "outputs": [],
   "source": [
    "try:\n",
    "    df.drop(columns = 'Direction', inplace = True)\n",
    "except:\n",
    "    pd.DataFrame(df.columns)\n",
    "\n"
   ]
  },
  {
   "cell_type": "markdown",
   "metadata": {},
   "source": [
    "Run Binary and Multi Classifications"
   ]
  },
  {
   "cell_type": "code",
   "execution_count": 4,
   "metadata": {},
   "outputs": [],
   "source": [
    "#classify column 'D'\n",
    "#Column D measures the 7 day future price change for a given company\n",
    "#-1 if change is less than 1%, +1 if change is greater than 1%, 0 otherwise\n",
    "\n",
    "df['D'] = df.Rolling - df.SPRolling\n",
    "\n",
    "def classifier_binary(x):\n",
    "    if x < 0:\n",
    "        return 0\n",
    "    else:\n",
    "        return 1\n",
    "  \n",
    "\n",
    "def classifier_multi(x):\n",
    "    if x < -.01:\n",
    "        return -1\n",
    "    elif x > .01:\n",
    "        return 1\n",
    "    else:\n",
    "        return 0\n",
    "\n",
    "\n",
    "df['Dir_Binary'] = df['D'].apply(classifier_binary)\n",
    "df['Dir_Multi']  = df['D'].apply(classifier_multi)\n",
    "df = df.drop(columns = ['D', 'Rolling'])\n",
    "df['PosCoef'] = df.DI_Plus_Slope * df.DI_Plus_R\n"
   ]
  },
  {
   "cell_type": "code",
   "execution_count": 5,
   "metadata": {},
   "outputs": [],
   "source": [
    "#after dropping some of the noise I'm in a better spot\n",
    "todrop =  ['AverageSectorSR','Year', 'Sales_Ratio','DI_Neg_Slope','eps','LowerB', 'UpperSR', 'LowerSR','month',\n",
    "                         'Sales','Shares','UpperB', 'DI_Plus', 'DI_Neg',  'Close', 'SMA', 'AverageSectorPE', \n",
    "                               'PE_Ratio', 'Upper', 'Lower',  'DI_Neg_R', 'Date', 'Ticker', \n",
    "                                       'Key', 'SPRolling', 'Average']\n",
    "\n",
    "\n",
    "\n",
    "df2 = df.drop(columns = todrop)"
   ]
  },
  {
   "cell_type": "code",
   "execution_count": 6,
   "metadata": {},
   "outputs": [
    {
     "data": {
      "text/plain": [
       "(5573, 25)"
      ]
     },
     "execution_count": 6,
     "metadata": {},
     "output_type": "execute_result"
    }
   ],
   "source": [
    "RecurSample = df2.sample(frac = .01)\n",
    "\n",
    "#create dummy variable for the sector\n",
    "def dummy(df, drop):\n",
    "\n",
    "    df2 = df.drop(columns = drop)\n",
    "    ds = pd.get_dummies(df[drop])\n",
    "    dfdum = pd.concat([df2, ds], axis = 1)\n",
    "\n",
    "    return dfdum\n",
    "\n",
    "RecurSample = dummy(RecurSample, ['Sector'])\n",
    "RecurSample.shape\n",
    "\n",
    "\n"
   ]
  },
  {
   "cell_type": "code",
   "execution_count": 7,
   "metadata": {},
   "outputs": [],
   "source": [
    "#set up X and y varialbes - my final set will also remove the 'Date' and 'Ticker' fields. \n",
    "#df2 = df2[df2.Direction !=0]\n",
    "y = RecurSample['Dir_Binary'].ravel()\n",
    "X = RecurSample.drop(columns = [ 'Dir_Binary','Dir_Multi'])"
   ]
  },
  {
   "cell_type": "code",
   "execution_count": 8,
   "metadata": {},
   "outputs": [
    {
     "data": {
      "image/png": "[encoded data removed]",
      "text/plain": [
       "<Figure size 432x288 with 1 Axes>"
      ]
     },
     "metadata": {
      "needs_background": "light"
     },
     "output_type": "display_data"
    }
   ],
   "source": [
    "from sklearn.svm import SVC\n",
    "from sklearn.model_selection import StratifiedKFold\n",
    "from sklearn.feature_selection import RFECV\n",
    "\n",
    "cv = StratifiedKFold(2)\n",
    "rfecv = RFECV(RandomForestClassifier(), step = 1, cv = cv, scoring = 'precision')\n",
    "rfecv.fit(X, y)\n",
    "\n",
    "\n",
    "plt.figure()\n",
    "plt.xlabel(\"Number of features selected\")\n",
    "plt.ylabel(\"Cross validation score (nb of correct classifications)\")\n",
    "plt.plot(range(1, len(rfecv.grid_scores_) + 1), rfecv.grid_scores_)\n",
    "plt.show()"
   ]
  },
  {
   "cell_type": "code",
   "execution_count": 17,
   "metadata": {},
   "outputs": [
    {
     "data": {
      "text/plain": [
       "Index(['ADX', 'DI_Plus_Slope', 'Off_SMA', 'Off_LB', 'ROE', 'D2C', 'epsgrowth',\n",
       "       'Percent_Buy', 'Relative_PE', 'Relative_SR', 'DI_Plus_R', 'PosCoef',\n",
       "       'Sector_Communication Services', 'Sector_Consumer Discretionary',\n",
       "       'Sector_Consumer Staples', 'Sector_Energy', 'Sector_Financials',\n",
       "       'Sector_Health Care', 'Sector_Industrials',\n",
       "       'Sector_Information Technology', 'Sector_Materials',\n",
       "       'Sector_Real Estate', 'Sector_Utilities'],\n",
       "      dtype='object')"
      ]
     },
     "execution_count": 17,
     "metadata": {},
     "output_type": "execute_result"
    }
   ],
   "source": [
    "X.columns"
   ]
  },
  {
   "cell_type": "code",
   "execution_count": 9,
   "metadata": {},
   "outputs": [
    {
     "data": {
      "text/html": [
       "<div>\n",
       "<style scoped>\n",
       "    .dataframe tbody tr th:only-of-type {\n",
       "        vertical-align: middle;\n",
       "    }\n",
       "\n",
       "    .dataframe tbody tr th {\n",
       "        vertical-align: top;\n",
       "    }\n",
       "\n",
       "    .dataframe thead th {\n",
       "        text-align: right;\n",
       "    }\n",
       "</style>\n",
       "<table border=\"1\" class=\"dataframe\">\n",
       "  <thead>\n",
       "    <tr style=\"text-align: right;\">\n",
       "      <th></th>\n",
       "      <th>0</th>\n",
       "    </tr>\n",
       "  </thead>\n",
       "  <tbody>\n",
       "    <tr>\n",
       "      <th>ADX</th>\n",
       "      <td>1</td>\n",
       "    </tr>\n",
       "    <tr>\n",
       "      <th>DI_Plus_Slope</th>\n",
       "      <td>1</td>\n",
       "    </tr>\n",
       "    <tr>\n",
       "      <th>Off_SMA</th>\n",
       "      <td>1</td>\n",
       "    </tr>\n",
       "    <tr>\n",
       "      <th>Off_LB</th>\n",
       "      <td>1</td>\n",
       "    </tr>\n",
       "    <tr>\n",
       "      <th>ROE</th>\n",
       "      <td>1</td>\n",
       "    </tr>\n",
       "    <tr>\n",
       "      <th>D2C</th>\n",
       "      <td>1</td>\n",
       "    </tr>\n",
       "    <tr>\n",
       "      <th>epsgrowth</th>\n",
       "      <td>3</td>\n",
       "    </tr>\n",
       "    <tr>\n",
       "      <th>Percent_Buy</th>\n",
       "      <td>2</td>\n",
       "    </tr>\n",
       "    <tr>\n",
       "      <th>Relative_PE</th>\n",
       "      <td>1</td>\n",
       "    </tr>\n",
       "    <tr>\n",
       "      <th>Relative_SR</th>\n",
       "      <td>1</td>\n",
       "    </tr>\n",
       "    <tr>\n",
       "      <th>DI_Plus_R</th>\n",
       "      <td>1</td>\n",
       "    </tr>\n",
       "    <tr>\n",
       "      <th>PosCoef</th>\n",
       "      <td>1</td>\n",
       "    </tr>\n",
       "    <tr>\n",
       "      <th>Sector_Communication Services</th>\n",
       "      <td>14</td>\n",
       "    </tr>\n",
       "    <tr>\n",
       "      <th>Sector_Consumer Discretionary</th>\n",
       "      <td>5</td>\n",
       "    </tr>\n",
       "    <tr>\n",
       "      <th>Sector_Consumer Staples</th>\n",
       "      <td>8</td>\n",
       "    </tr>\n",
       "    <tr>\n",
       "      <th>Sector_Energy</th>\n",
       "      <td>12</td>\n",
       "    </tr>\n",
       "    <tr>\n",
       "      <th>Sector_Financials</th>\n",
       "      <td>9</td>\n",
       "    </tr>\n",
       "    <tr>\n",
       "      <th>Sector_Health Care</th>\n",
       "      <td>4</td>\n",
       "    </tr>\n",
       "    <tr>\n",
       "      <th>Sector_Industrials</th>\n",
       "      <td>7</td>\n",
       "    </tr>\n",
       "    <tr>\n",
       "      <th>Sector_Information Technology</th>\n",
       "      <td>6</td>\n",
       "    </tr>\n",
       "    <tr>\n",
       "      <th>Sector_Materials</th>\n",
       "      <td>10</td>\n",
       "    </tr>\n",
       "    <tr>\n",
       "      <th>Sector_Real Estate</th>\n",
       "      <td>11</td>\n",
       "    </tr>\n",
       "    <tr>\n",
       "      <th>Sector_Utilities</th>\n",
       "      <td>13</td>\n",
       "    </tr>\n",
       "  </tbody>\n",
       "</table>\n",
       "</div>"
      ],
      "text/plain": [
       "                                0\n",
       "ADX                             1\n",
       "DI_Plus_Slope                   1\n",
       "Off_SMA                         1\n",
       "Off_LB                          1\n",
       "ROE                             1\n",
       "D2C                             1\n",
       "epsgrowth                       3\n",
       "Percent_Buy                     2\n",
       "Relative_PE                     1\n",
       "Relative_SR                     1\n",
       "DI_Plus_R                       1\n",
       "PosCoef                         1\n",
       "Sector_Communication Services  14\n",
       "Sector_Consumer Discretionary   5\n",
       "Sector_Consumer Staples         8\n",
       "Sector_Energy                  12\n",
       "Sector_Financials               9\n",
       "Sector_Health Care              4\n",
       "Sector_Industrials              7\n",
       "Sector_Information Technology   6\n",
       "Sector_Materials               10\n",
       "Sector_Real Estate             11\n",
       "Sector_Utilities               13"
      ]
     },
     "execution_count": 9,
     "metadata": {},
     "output_type": "execute_result"
    }
   ],
   "source": [
    "# Create the RFE object and rank each pixel\n",
    "from sklearn.feature_selection import RFE\n",
    "\n",
    "#svc = SVC(kernel=\"linear\", C=1)\n",
    "rfe = RFE(estimator=RandomForestClassifier(), n_features_to_select=10, step=1)\n",
    "rfe.fit(X, y)\n",
    "\n",
    "\n",
    "\n",
    "pd.DataFrame(rfe.ranking_, X.columns)\n"
   ]
  },
  {
   "cell_type": "code",
   "execution_count": 10,
   "metadata": {},
   "outputs": [],
   "source": [
    "dfrank = pd.DataFrame(rfe.ranking_, X.columns)\n",
    "dfrank.columns = ['Rank']\n",
    "keep = dfrank[dfrank.Rank == 1].index"
   ]
  },
  {
   "cell_type": "code",
   "execution_count": 11,
   "metadata": {},
   "outputs": [
    {
     "data": {
      "text/plain": [
       "Index(['ADX', 'DI_Plus_Slope', 'Off_SMA', 'Off_LB', 'ROE', 'D2C',\n",
       "       'Relative_PE', 'Relative_SR', 'DI_Plus_R', 'PosCoef'],\n",
       "      dtype='object')"
      ]
     },
     "execution_count": 11,
     "metadata": {},
     "output_type": "execute_result"
    }
   ],
   "source": [
    "keep"
   ]
  },
  {
   "cell_type": "code",
   "execution_count": 12,
   "metadata": {},
   "outputs": [],
   "source": [
    "X = df[keep]\n",
    "y = df['Dir_Binary']"
   ]
  },
  {
   "cell_type": "code",
   "execution_count": 13,
   "metadata": {},
   "outputs": [],
   "source": [
    "model = RandomForestClassifier(100, n_jobs = -1, random_state = 42, min_samples_leaf = 1, criterion = \"gini\")\n",
    "X_train, X_test, y_train, y_test = train_test_split(X, y, test_size = .25, random_state = 42)\n",
    "model.fit(X_train, y_train)\n",
    "ypred = model.predict(X_test)"
   ]
  },
  {
   "cell_type": "code",
   "execution_count": 14,
   "metadata": {},
   "outputs": [
    {
     "name": "stdout",
     "output_type": "stream",
     "text": [
      "ROC: 0.7\n",
      "Accuracy 0.7\n",
      "Recall 0.695\n",
      "Precision 0.704\n",
      "F1 0.699\n"
     ]
    }
   ],
   "source": [
    "print('ROC:', round(roc_auc_score(y_test, ypred),3))\n",
    "print('Accuracy', round(accuracy_score(y_test,ypred),3))\n",
    "print('Recall', round(recall_score(y_test, ypred),3))\n",
    "print('Precision', round(precision_score(y_test, ypred),3))\n",
    "print('F1', round(f1_score(y_test, ypred),3))"
   ]
  },
  {
   "cell_type": "code",
   "execution_count": null,
   "metadata": {},
   "outputs": [],
   "source": [
    "def remove_outlier(df, f):\n",
    "    \n",
    "    #for f in fields:\n",
    "        \n",
    "        Q1 = df[f].quantile(.25)\n",
    "        Q3 = df[f].quantile(.75)\n",
    "        IQR =Q3 - Q1\n",
    "        \n",
    "        #df['Upper'] = Q1 * 1.5 * IQR \n",
    "        \n",
    "        #df['Lower'] = Q1 * 1.5 * IQR \n",
    "        dfnox = df[~((df[f] < (Q1 - 1.5 * IQR)) |(df[f]> (Q3 + 1.5 * IQR))).any(axis = 1)]\n",
    "        return dfnox\n",
    "    \n",
    "\n",
    "outliertest = remove_outlier(df, ['Relative_SR', 'Relative_PE'] )"
   ]
  },
  {
   "cell_type": "code",
   "execution_count": null,
   "metadata": {},
   "outputs": [],
   "source": [
    "#Remove outliers on specfic items\n",
    "df_PE = remove_outlier(df, ['PE_Ratio'] )\n",
    "df_Sales = remove_outlier(df, ['Sales_Ratio'] )\n",
    "df_PESR = remove_outlier(df, ['PE_Ratio', 'Sales_Ratio'] )"
   ]
  },
  {
   "cell_type": "code",
   "execution_count": null,
   "metadata": {},
   "outputs": [],
   "source": [
    "print(df.shape)\n",
    "print(df_PE.shape )\n",
    "print(df_Sales.shape)\n",
    "print(df_PESR.shape)"
   ]
  },
  {
   "cell_type": "code",
   "execution_count": null,
   "metadata": {},
   "outputs": [],
   "source": [
    "def DropYear(d):\n",
    "    d['Y_M'] = d[['Year','month']].astype(str).apply(lambda x: '_'.join(x), axis=1)\n",
    "    df_Month = d[(d.Y_M != '2019_7') & (d.Y_M != '2019_8')]\n",
    "    df_Month = df_Month.drop(columns = ['Y_M'])\n",
    "    return df_Month"
   ]
  },
  {
   "cell_type": "code",
   "execution_count": null,
   "metadata": {},
   "outputs": [],
   "source": [
    "df_Sales2 = DropYear(df_Sales)\n",
    "df_PE2 = DropYear(df_PE)\n",
    "df_Sales.drop(columns = ['Y_M'], inplace = True)\n",
    "df_PE.drop(columns = ['Y_M'], inplace = True)"
   ]
  },
  {
   "cell_type": "markdown",
   "metadata": {},
   "source": [
    "# Select dataset for intial modeling"
   ]
  },
  {
   "cell_type": "code",
   "execution_count": null,
   "metadata": {},
   "outputs": [],
   "source": [
    "# Create the RFE object and rank each pixel\n",
    "from sklearn.feature_selection import RFE\n",
    "\n",
    "#svc = SVC(kernel=\"linear\", C=1)\n",
    "rfe = RFE(estimator=RandomForestClassifier(), n_features_to_select=10, step=1)\n",
    "rfe.fit(X, y)\n"
   ]
  },
  {
   "cell_type": "code",
   "execution_count": null,
   "metadata": {},
   "outputs": [],
   "source": [
    "rfe.ranking_."
   ]
  },
  {
   "cell_type": "code",
   "execution_count": null,
   "metadata": {},
   "outputs": [],
   "source": [
    "\n",
    "\n",
    "X = df2.drop(columns = [ 'Dir_Binary','Dir_Multi'])\n",
    "pd.DataFrame(rfe.ranking_, X.columns)"
   ]
  },
  {
   "cell_type": "code",
   "execution_count": null,
   "metadata": {},
   "outputs": [],
   "source": [
    "for i in range(X.shape[1]):\n",
    "    print('Column: %d, Selected %s, Rank: %.3f' % (i, rfe.support_[i], rfe.ranking_[i]))"
   ]
  },
  {
   "cell_type": "code",
   "execution_count": null,
   "metadata": {},
   "outputs": [],
   "source": [
    "ranking = rfe.ranking_.reshape(digits.images[0].shape)\n",
    "\n",
    "# Plot pixel ranking\n",
    "plt.matshow(ranking, cmap=plt.cm.Blues)\n",
    "plt.colorbar()\n",
    "plt.title(\"Ranking of pixels with RFE\")\n",
    "plt.show()"
   ]
  },
  {
   "cell_type": "code",
   "execution_count": null,
   "metadata": {},
   "outputs": [],
   "source": [
    "#run lasso regression to assess feature selection\n",
    "\n",
    "from sklearn.feature_selection import SelectFromModel\n",
    "from sklearn.linear_model import LassoCV\n",
    "\n",
    "clf = LassoCV().fit(X, y)"
   ]
  },
  {
   "cell_type": "code",
   "execution_count": null,
   "metadata": {},
   "outputs": [],
   "source": [
    "importance = np.abs(clf.coef_)\n",
    "feature_dict = dict(zip(X.columns, importance))\n",
    "results = pd.DataFrame.from_dict(feature_dict, orient = 'index', columns = ['Value'])\n",
    "categorical_variables = ['Sector']"
   ]
  },
  {
   "cell_type": "code",
   "execution_count": null,
   "metadata": {},
   "outputs": [],
   "source": [
    "def graph_feature_importances(features, feature_names, autoscale = True, headroom = .05, width = 10, summarized_columns = None):\n",
    "    if autoscale:\n",
    "        x_scale = features.max() + headroom\n",
    "    else:\n",
    "        x_scale = 1\n",
    "        \n",
    "    #feature_dict = dict(zip(feature_names, model.feature_importances_))\n",
    "    \n",
    "    if summarized_columns:\n",
    "        for col_name in summarized_columns:\n",
    "            sum_value = sum(x for i, x in feature_dict.items() if col_name in i)\n",
    "            \n",
    "            keys_to_remove = [i for i in feature_dict.keys() if col_name in i]\n",
    "            \n",
    "            for i in keys_to_remove:\n",
    "                feature_dict.pop(i)\n",
    "            \n",
    "            feature_dict[col_name] = sum_value\n",
    "            \n",
    "    results = pd.DataFrame.from_dict(feature_dict, orient = 'index', columns = ['Value'])\n",
    "    results.sort_values(by = 'Value', inplace = True)\n",
    "    results.plot(kind = 'barh')\n",
    "    \n",
    "    \n",
    "graph_feature_importances(results, X.columns, summarized_columns = categorical_variables)\n",
    "\n",
    "# feature selection sci kit learn\n",
    "# recursive feature elmination"
   ]
  },
  {
   "cell_type": "markdown",
   "metadata": {},
   "source": [
    "# Analyze Accuracy Scores across different classifier models"
   ]
  },
  {
   "cell_type": "code",
   "execution_count": null,
   "metadata": {},
   "outputs": [],
   "source": [
    "# Load Library\n",
    "from sklearn.datasets import make_moons\n",
    "from sklearn.metrics import accuracy_score\n",
    "from sklearn.model_selection import train_test_split\n",
    "from sklearn.tree import DecisionTreeClassifier\n",
    "from sklearn.ensemble import RandomForestClassifier,AdaBoostClassifier,GradientBoostingClassifier\n",
    "\n",
    "\n",
    "# Step2: Split the training test set\n",
    "X_train, X_test, y_train, y_test = train_test_split(X, y, test_size=0.2, random_state=42)\n",
    "# Step 3: Fit a Decision Tree model as comparison\n",
    "DT = DecisionTreeClassifier()\n",
    "DT.fit(X_train, y_train)\n",
    "y_pred = DT.predict(X_test)\n",
    "print('decision tree:', accuracy_score(y_test, y_pred))\n",
    "\n",
    "# Step 4: Fit a Random Forest model, \" compared to \"Decision Tree model, accuracy go up by 5%\n",
    "RF = RandomForestClassifier(n_estimators=100, max_features=\"auto\",random_state=0)\n",
    "RF.fit(X_train, y_train)\n",
    "y_pred = RF.predict(X_test)\n",
    "print('random forest:', accuracy_score(y_test, y_pred))\n",
    "\n",
    "# Step 5: Fit a AdaBoost model, \" compared to \"Decision Tree model, accuracy go up by 10%\n",
    "ADA = AdaBoostClassifier(n_estimators=100)\n",
    "ADA.fit(X_train, y_train)\n",
    "y_pred = ADA.predict(X_test)\n",
    "print('Ada Boost:', accuracy_score(y_test, y_pred))\n",
    "\n",
    "# Step 6: Fit a Gradient Boosting model, \" compared to \"Decision Tree model, accuracy go up by 10%\n",
    "GB = GradientBoostingClassifier(n_estimators=100)\n",
    "GB.fit(X_train, y_train)\n",
    "y_pred = GB.predict(X_test)\n",
    "print('Gradient Boosting:', accuracy_score(y_test, y_pred))\n"
   ]
  },
  {
   "cell_type": "markdown",
   "metadata": {},
   "source": [
    "# Random Forecst Returning the best accuracy\n",
    "### Run a few different scenarios with different feature selections"
   ]
  },
  {
   "cell_type": "code",
   "execution_count": null,
   "metadata": {},
   "outputs": [],
   "source": [
    "drop1 = ['D2C', 'epsgrowth', 'ROE']\n",
    "drop2 = ['Relative_PE']\n",
    "drop3 = ['D2C', 'epsgrowth', 'ROE', 'Off_LB']\n",
    "drop4 = ['Relative_SR']"
   ]
  },
  {
   "cell_type": "code",
   "execution_count": null,
   "metadata": {},
   "outputs": [],
   "source": [
    "\n",
    "\n",
    "X1 = X.drop(columns = drop1)\n",
    "y1 = df2['Dir_Binary']\n",
    "\n",
    "X2 = X.drop(columns = drop2)\n",
    "y2 = df2['Dir_Binary']\n",
    "\n",
    "X3 = X.drop(columns = drop3)\n",
    "y3 = df2['Dir_Binary']\n",
    "\n",
    "X4 = X.drop(columns = drop4)\n",
    "y4 = df2['Dir_Binary']\n",
    "\n",
    "#Remove months 7 and 8 \n",
    "#X3 = X[(X.month != 7) & (X.month != 8)]\n",
    "#y3 = df2[(df2.month != 7) & (df2.month != 8)]['Direction']\n",
    "#X3 = X3.drop(columns = drop3)\n",
    "\n",
    "#remove quarters\n",
    "#X4 = X[(X.month != 1) & (X.month != 4) & (X.month != 7) & (X.month != 9)]\n",
    "#y4 = df2[(df2.month != 1) & (df2.month != 4)& (df2.month != 7)& (df2.month != 9)]['Direction']\n",
    "#X4 = X4.drop(columns = drop3)\n",
    "\n",
    "dflist =[[X,y],[X1,y1], [X2,y2], [X3,y3], [X4,y4]]"
   ]
  },
  {
   "cell_type": "code",
   "execution_count": null,
   "metadata": {},
   "outputs": [],
   "source": [
    "scores = {}\n",
    "n = 0\n",
    "for Xa, ya in dflist:\n",
    "\n",
    "   \n",
    "    X_train, X_test, y_train, y_test = train_test_split(Xa, ya, test_size = .25, random_state = 42)\n",
    "    model = RandomForestClassifier(100, n_jobs = -1, random_state = 42, criterion = \"gini\")\n",
    "    model.fit(X_train, y_train)\n",
    "    ypred = model.predict(X_test)\n",
    "    \n",
    "    ROC = round(roc_auc_score(y_test, ypred),3)\n",
    "    Accuracy = round(accuracy_score(y_test,ypred),3)\n",
    "    Recall = round(recall_score(y_test, ypred),3)\n",
    "    Precision = round(precision_score(y_test, ypred),3)\n",
    "    F1 = round(f1_score(y_test, ypred),3)\n",
    "    \n",
    "    \n",
    "    scores[n] = [ROC,Accuracy, Recall, Precision, F1]\n",
    "    print(scores[n])\n",
    "    n = n + 1\n",
    "    \n",
    "    "
   ]
  },
  {
   "cell_type": "code",
   "execution_count": null,
   "metadata": {},
   "outputs": [],
   "source": [
    "pd.DataFrame(scores, index = ['ROC', 'Accruacy', 'Recall', 'Precision', 'F1'])\n",
    "\n",
    "# Scenario 0 adds the Relative Price/Sales Ratio which improved my original run accross the board\n",
    "# Scenario 4 is all features except Price/Sales Ratio"
   ]
  },
  {
   "cell_type": "markdown",
   "metadata": {},
   "source": [
    "# The highest scores are my on my original feature data set. I'll stick with those"
   ]
  },
  {
   "cell_type": "markdown",
   "metadata": {},
   "source": [
    "# Run analysis on varying min_samples_leaf"
   ]
  },
  {
   "cell_type": "code",
   "execution_count": null,
   "metadata": {},
   "outputs": [],
   "source": [
    "scores = {}\n",
    "\n",
    "\n",
    "for n in np.arange(1,6,1):\n",
    "\n",
    "   \n",
    "    X_train, X_test, y_train, y_test = train_test_split(X, y, test_size = .25, random_state = 42)\n",
    "    model = RandomForestClassifier(50, n_jobs = -1, random_state = 42, min_samples_leaf = n)\n",
    "    model.fit(X_train, y_train)\n",
    "    ypred = model.predict(X_test)\n",
    "    \n",
    "    ROC = round(roc_auc_score(y_test, ypred),3)\n",
    "    Accuracy = round(accuracy_score(y_test,ypred),3)\n",
    "    Recall = round(recall_score(y_test, ypred),3)\n",
    "    Precision = round(precision_score(y_test, ypred),3)\n",
    "    F1 = round(f1_score(y_test, ypred),3)\n",
    "    \n",
    "    \n",
    "    scores[n] = [ROC,Accuracy, Recall, Precision, F1]\n",
    "    #print(scores)\n",
    "    n = n + 1\n",
    "    \n",
    "#Random search\n",
    "#bayseian optimaztion"
   ]
  },
  {
   "cell_type": "markdown",
   "metadata": {},
   "source": [
    "Min 1 LEaf socring the best"
   ]
  },
  {
   "cell_type": "code",
   "execution_count": null,
   "metadata": {},
   "outputs": [],
   "source": [
    "pd.DataFrame(scores, index = ['ROC', 'Accruacy', 'Recall', 'Precision', 'F1'])"
   ]
  },
  {
   "cell_type": "markdown",
   "metadata": {},
   "source": [
    "Analyze Scenarios where Outlying Sales/Price Ratios are removed, Outlying Price to Earnings, and high volatility months 7 and 8 in year 2019"
   ]
  },
  {
   "cell_type": "code",
   "execution_count": null,
   "metadata": {},
   "outputs": [],
   "source": [
    "\n",
    "\n",
    "try:\n",
    "    df_Sales = dummy(df_Sales, ['Sector'])\n",
    "    df_Sales2 = dummy(df_Sales2, ['Sector'])\n",
    "    dfSales3 = df_Sales[df_Sales.eps > 0]\n",
    "    df_PE = dummy(df_PE, ['Sector'])\n",
    "    df_PE2 = dummy(df_PE2, ['Sector'])\n",
    "    df_PESR = dummy(df_PESR, ['Sector'])\n",
    "except:\n",
    "    print('already converted')"
   ]
  },
  {
   "cell_type": "code",
   "execution_count": null,
   "metadata": {},
   "outputs": [],
   "source": [
    "\n",
    "\n",
    "dflist = [df_Sales, dfSales3, df_Sales2, df_PE,df_PE2, df_PESR]\n",
    "scores = {}\n",
    "n = 0\n",
    "\n",
    "for df in dflist:\n",
    "   \n",
    "\n",
    "    df2 = df.drop(columns = todrop)\n",
    "    Xa = df2.drop(columns = [ 'Dir_Binary','Dir_Multi' ])\n",
    "    ya = df2['Dir_Binary']\n",
    "    model = RandomForestClassifier(100, n_jobs = -1, random_state = 42, min_samples_leaf = 1, criterion = \"gini\")\n",
    "    X_train, X_test, y_train, y_test = train_test_split(Xa, ya, test_size = .25, random_state = 42)\n",
    "    \n",
    "    model.fit(X_train, y_train)\n",
    "    ypred = model.predict(X_test)\n",
    "    \n",
    "    ROC = round(roc_auc_score(y_test, ypred),3)\n",
    "    Accuracy = round(accuracy_score(y_test,ypred),3)\n",
    "    Recall = round(recall_score(y_test, ypred),3)\n",
    "    Precision = round(precision_score(y_test, ypred),3)\n",
    "    F1 = round(f1_score(y_test, ypred),3)\n",
    "    \n",
    "    \n",
    "    scores[n] = [ROC,Accuracy, Recall, Precision, F1]\n",
    "    #print(scores)\n",
    "    n = n + 1\n",
    "    print(Accuracy)\n",
    "\n",
    "FinalScores = pd.DataFrame(scores, index = ['ROC', 'Accruacy', 'Recall', 'Precision', 'F1'])\n",
    "#FinalScores.columns = dflist\n"
   ]
  },
  {
   "cell_type": "code",
   "execution_count": null,
   "metadata": {},
   "outputs": [],
   "source": [
    "FinalScores"
   ]
  },
  {
   "cell_type": "markdown",
   "metadata": {},
   "source": [
    "# Run Final Accruacy scores, graph feature importance, review confusion matrix for chosen model"
   ]
  },
  {
   "cell_type": "code",
   "execution_count": null,
   "metadata": {},
   "outputs": [],
   "source": [
    "dfSales3['PosCoef'] = dfSales3.DI_Plus_Slope * dfSales3.DI_Plus_R\n",
    "finalDF = dfSales3\n",
    "\n",
    "finalDF = finalDF.drop(columns = todrop)\n",
    "\n",
    "#export final dataset to use in live model\n",
    "#finalDF.to_csv('Final_Final_Model_Set.csv')\n",
    "X = finalDF.drop(columns = [ 'Dir_Binary','Dir_Multi', 'Off_LB'])\n",
    "y = finalDF['Dir_Binary']\n",
    "\n"
   ]
  },
  {
   "cell_type": "code",
   "execution_count": null,
   "metadata": {},
   "outputs": [],
   "source": [
    "model = RandomForestClassifier(100, n_jobs = -1, random_state = 42, min_samples_leaf = 1, criterion = \"gini\")\n",
    "X_train, X_test, y_train, y_test = train_test_split(X, y, test_size = .25, random_state = 42)\n",
    "model.fit(X_train, y_train)\n",
    "ypred = model.predict(X_test)"
   ]
  },
  {
   "cell_type": "code",
   "execution_count": null,
   "metadata": {},
   "outputs": [],
   "source": [
    "def graph_feature_importances(model, feature_names, autoscale = True, headroom = .05, width = 10, summarized_columns = None):\n",
    "    if autoscale:\n",
    "        x_scale = model.feature_importances_.max() + headroom\n",
    "    else:\n",
    "        x_scale = 1\n",
    "        \n",
    "    feature_dict = dict(zip(feature_names, model.feature_importances_))\n",
    "    \n",
    "    if summarized_columns:\n",
    "        for col_name in summarized_columns:\n",
    "            sum_value = sum(x for i, x in feature_dict.items() if col_name in i)\n",
    "            \n",
    "            keys_to_remove = [i for i in feature_dict.keys() if col_name in i]\n",
    "            \n",
    "            for i in keys_to_remove:\n",
    "                feature_dict.pop(i)\n",
    "            \n",
    "            feature_dict[col_name] = sum_value\n",
    "            \n",
    "    results = pd.DataFrame.from_dict(feature_dict, orient = 'index', columns = ['Value'])\n",
    "    results.sort_values(by = 'Value', inplace = True)\n",
    "    results.plot(kind = 'barh')\n",
    "    \n",
    "    \n",
    "graph_feature_importances(model, X.columns, summarized_columns = ['Sector'])"
   ]
  },
  {
   "cell_type": "code",
   "execution_count": null,
   "metadata": {},
   "outputs": [],
   "source": [
    "from sklearn.metrics import confusion_matrix\n",
    "false_positives = confusion_matrix(y_test, ypred)[0][1]\n",
    "print('False Positives in Test:', false_positives)\n",
    "print(\"Chance of FP's \", round(false_positives / len(y_test),4) * 100)"
   ]
  },
  {
   "cell_type": "code",
   "execution_count": null,
   "metadata": {},
   "outputs": [],
   "source": [
    "print('ROC:', round(roc_auc_score(y_test, ypred),3))\n",
    "print('Accuracy', round(accuracy_score(y_test,ypred),3))\n",
    "print('Recall', round(recall_score(y_test, ypred),3))\n",
    "print('Precision', round(precision_score(y_test, ypred),3))\n",
    "print('F1', round(f1_score(y_test, ypred),3))\n",
    "\n",
    "pd.reset_option('display.float_format')\n",
    "confmat = plot_confusion_matrix(model, X_test, y_test, cmap=\"Blues\",values_format='.0f')"
   ]
  },
  {
   "cell_type": "markdown",
   "metadata": {},
   "source": [
    "For this project I want to focus on maximizing Precision - minimizing false positive classifications\n",
    "A false positive would trigger a buy on a stock that will go down causing an actual loss. A false negative would mean I don't buy a stock that is actually going to go up; there would be opportunity cost but not an actual monetary loss.\n",
    "\n",
    "* Recall = True Positive / (True Positive + False Negative)\n",
    "* Precision = True Positive / (True Positive + False Positive)\n",
    "* F1 = (2 x Precision x Recall) / (Precision + Recall)"
   ]
  },
  {
   "cell_type": "markdown",
   "metadata": {},
   "source": [
    "### Run model using a multi classifier where -1 = less than 1% drop in price, +1 = more than 1% drop in price, 0 = between -1 and 1% change"
   ]
  },
  {
   "cell_type": "code",
   "execution_count": null,
   "metadata": {},
   "outputs": [],
   "source": [
    "model = RandomForestClassifier(100, n_jobs = -1, random_state = 42, min_samples_leaf = 1, criterion = \"gini\")\n",
    "X_train, X_test, y_train, y_test = train_test_split(Xm, ym, test_size = .25, random_state = 42)\n",
    "model.fit(X_train, y_train)\n",
    "ypred = model.predict(X_test)"
   ]
  },
  {
   "cell_type": "code",
   "execution_count": null,
   "metadata": {},
   "outputs": [],
   "source": [
    "#print('ROC:', round(roc_auc_score(y_test, ypred),3))\n",
    "print('Accuracy', round(accuracy_score(y_test,ypred),3))\n",
    "print('Recall', round(recall_score(y_test, ypred, average = 'weighted'),3))\n",
    "print('Precision', round(precision_score(y_test, ypred, average = 'weighted'),3))\n",
    "print('F1', round(f1_score(y_test, ypred,average = 'weighted'),3))"
   ]
  }
 ],
 "metadata": {
  "kernelspec": {
   "display_name": "Python 3.7.6 64-bit ('base': conda)",
   "language": "python",
   "name": "python37664bitbasecondaa8b2bb7a1475404398bd16ebfacc95c1"
  },
  "language_info": {
   "codemirror_mode": {
    "name": "ipython",
    "version": 3
   },
   "file_extension": ".py",
   "mimetype": "text/x-python",
   "name": "python",
   "nbconvert_exporter": "python",
   "pygments_lexer": "ipython3",
   "version": "3.7.6"
  }
 },
 "nbformat": 4,
 "nbformat_minor": 4
}
