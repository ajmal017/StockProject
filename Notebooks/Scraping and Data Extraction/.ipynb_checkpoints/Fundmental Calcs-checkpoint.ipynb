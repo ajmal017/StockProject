{
 "cells": [
  {
   "cell_type": "markdown",
   "metadata": {},
   "source": [
    "# Data Wrangling - Fundamental Data Cleaning and Converion"
   ]
  },
  {
   "cell_type": "markdown",
   "metadata": {},
   "source": [
    "Note: this workbook is 1 of 4 scraping and extracting processes that ultimately aggregate into the Technical Indicators workbook in the Data Wrangling phase of capstone 3\n",
    "\n",
    "\n",
    "* Fundamental Scraper - scrapes 5 years worth of fundamental company financial data from MarketWatch using Beautiful Soup from the S&P 500 list\n",
    "* <span style=\"color:red\"> **Fundamental Calcs (this workbook)** </span> - imports scraped data from the scraper tool, converts text data to numeric - i.e. 5.00M to 5000000 - using regular expressions, and calculates additonal financial metrics\n",
    "* Analyst Scraper - scrapes analyst buy, sell, hold ratings for all S&P 500 stocks and downloads to .csv file\n",
    "* Mass Yahoo Download and Technical Analysis - downloads 5 years of daily stock pricing data from the S&P 500, Runs complex Directional Index, ADX, Bollinger Band, and other financial charting data. Merges data from fundamental and analyst scrapers. "
   ]
  },
  {
   "cell_type": "code",
   "execution_count": 18,
   "metadata": {},
   "outputs": [],
   "source": [
    "import pandas as pd\n",
    "from datetime import date\n",
    "import re\n",
    "import numpy as np\n",
    "import seaborn as sns\n",
    "import matplotlib.pyplot as plt\n",
    "import os\n",
    "\n",
    "pd.reset_option('display.float_format')"
   ]
  },
  {
   "cell_type": "code",
   "execution_count": 19,
   "metadata": {},
   "outputs": [],
   "source": [
    "filepath = r'C:\\Users\\nmur1\\Google Drive\\Springboard\\Capstone2\\CleanData'\n",
    "companylistpath = r'C:\\Users\\nmur1\\Google Drive\\Springboard\\Capstone2\\Stock Import Lists'\n",
    "exportpath = r'C:\\Users\\nmur1\\Google Drive\\Springboard\\Capstone2\\CleanData'\n",
    "\n",
    "filenameQ = 'Fundamentals_Q.csv'\n",
    "filenameA = 'Fundamentals_A.csv'\n",
    "companylist = 'SandP.csv'\n",
    "exportname = 'Fundamental_Final.csv'\n",
    "\n",
    "os.chdir(filepath)"
   ]
  },
  {
   "cell_type": "markdown",
   "metadata": {},
   "source": [
    "**Run the Scraper Notebook first to export Fundamentals_A.csv and Fundamentals_Q.csv to the working directory**"
   ]
  },
  {
   "cell_type": "code",
   "execution_count": 20,
   "metadata": {},
   "outputs": [],
   "source": [
    "#import scraped stocks\n",
    "\n",
    "df = pd.read_csv(filenameA, index_col = 0) #YE2019 \n",
    "dfQ = pd.read_csv(filenameQ, index_col = 0) #MRQ\n",
    "#PY_PRICE = pd.read_csv('YEPrices.csv',encoding= 'unicode_escape')\n",
    "#Rolling = pd.read_csv('RollingPrices.csv', encoding = 'unicode_escape')\n",
    "df = df.replace('-', 0).reset_index()\n",
    "dfQ = dfQ.replace('-', 0).reset_index()\n",
    "#Get List of S&P\n",
    "os.chdir(companylistpath)\n",
    "companies = pd.read_csv(companylist,encoding= 'unicode_escape')\n",
    "Symbol = companies.Symbol\n",
    "companies.columns = ['Ticker', 'Name', 'Sector']"
   ]
  },
  {
   "cell_type": "markdown",
   "metadata": {},
   "source": [
    "### Functions to Convert Numerical Data Displayed as Text to Actual Numbers"
   ]
  },
  {
   "cell_type": "code",
   "execution_count": 21,
   "metadata": {},
   "outputs": [],
   "source": [
    "\n",
    "def pconvert(x):\n",
    "    x = str(x).replace('%','')\n",
    "    x = str(x).replace(',','')\n",
    "    return x\n",
    "\n",
    "\n",
    "def convert(string):\n",
    "    \n",
    "    try:\n",
    "        #try a mathematical calculation to check if already a number\n",
    "        # if it is simply return value\n",
    "        int(64) * int(string)\n",
    "        return(float(string))\n",
    "    \n",
    "    except:\n",
    "               \n",
    "        #find parenthetical, B, or M indicators\n",
    "        regex = re.compile(r'[\\( \\)]')\n",
    "        p = ''.join(regex.findall(string))\n",
    "\n",
    "        regex = re.compile(r'B')\n",
    "        b = ''.join(regex.findall(string))\n",
    "\n",
    "        regex = re.compile(r'M')\n",
    "        m = ''.join(regex.findall(string))\n",
    "\n",
    "        #negative if enclosed in parenthetical\n",
    "        if p == '()':\n",
    "            neg = -1\n",
    "        else:\n",
    "            neg = 1\n",
    "\n",
    "        #Billions if ends in B\n",
    "        if b == 'B':\n",
    "            mult = 1000000\n",
    "\n",
    "        #Millions if ends in B\n",
    "        elif m == 'M':\n",
    "            mult = 1000\n",
    "        else:\n",
    "            mult = 1\n",
    "\n",
    "        #pull out the number\n",
    "        regex = re.compile(r'\\d+(\\..*)?\\d')\n",
    "        value = regex.search(string)\n",
    "\n",
    "        #convert to integer\n",
    "        try:\n",
    "            value = float(value.group())\n",
    "        except:\n",
    "            value = 0\n",
    "\n",
    "        #multiply by negative flag and multiple established above\n",
    "        return round(float(value) * neg * mult,2)"
   ]
  },
  {
   "cell_type": "code",
   "execution_count": 22,
   "metadata": {},
   "outputs": [],
   "source": [
    "#apply conversion functions and other key financial metric calculations including Debt to Cash, ROE, Total Debt\n",
    "\n",
    "def DataConversions(data):\n",
    "    data.epsgrowth = data.epsgrowth.apply(pconvert).astype(float)\n",
    "    data.roa = data.roa.apply(pconvert).astype(float)\n",
    "    data.eps = data.eps.apply(convert).astype(float)\n",
    "    data.netincome = data.netincome.apply(convert).astype('int64')\n",
    "    data.shareholderequity = data.shareholderequity.apply(convert).astype('int64')\n",
    "    data.longtermdebt = data.longtermdebt.apply(convert).astype('int64')\n",
    "    data.interestexpense = data.interestexpense.apply(convert).astype('int64')\n",
    "    data.ebitda = data.ebitda.apply(convert).astype('int64')\n",
    "    data['ST Debt'] = data['ST Debt'].apply(convert).astype('int64')\n",
    "    data.Cash = data.Cash.apply(convert).astype('int64')\n",
    "    data = data[data.Cash>0] #remove companies with no cash\n",
    "    data['TotalDebt'] = data.longtermdebt + data['ST Debt']\n",
    "    data['D2C'] = data.TotalDebt / data.Cash\n",
    "    data['ROE'] = data.netincome/data.shareholderequity\n",
    "    data['Sales'] = data.Sales.apply(convert).astype(float)\n",
    "    data['Shares'] = data.Shares.apply(convert).astype(float)\n",
    "    return data"
   ]
  },
  {
   "cell_type": "code",
   "execution_count": 23,
   "metadata": {},
   "outputs": [],
   "source": [
    "# convert the text to numbers based on my functions\n",
    "import warnings\n",
    "warnings.filterwarnings('ignore')\n",
    "df = DataConversions(df)\n",
    "dfQ = DataConversions(dfQ)\n"
   ]
  },
  {
   "cell_type": "code",
   "execution_count": 24,
   "metadata": {},
   "outputs": [],
   "source": [
    "#create a dataframe for the trailing 12 month eps\n",
    "dfQ = dfQ[dfQ['index'] != 'MRQ-4'].sort_values(by = 'Ticker')\n",
    "epsQ = dfQ.loc[:,('Ticker','eps')]\n",
    "epsQ.columns = ['Ticker', 'epsTTM']\n",
    "epsQ = epsQ.groupby('Ticker').sum()\n",
    "\n",
    "#create a dataframe for the most recent quarter's Debt to Cash Ratio\n",
    "MRQ_D2C = dfQ[dfQ['index'] == 'MRQ'].loc[:,('Ticker','D2C', 'TotalDebt', 'epsgrowth')]\n",
    "MRQ_D2C.columns = ['Ticker', 'MRQ_D2C', 'MRQ_TotalDebt', 'MRQ_epsGrowth']\n"
   ]
  },
  {
   "cell_type": "code",
   "execution_count": 25,
   "metadata": {},
   "outputs": [],
   "source": [
    "new = pd.merge(df,epsQ, on ='Ticker', how = 'left')\n",
    "new = pd.merge(new,MRQ_D2C, on = 'Ticker', how = 'left' )\n",
    "new = pd.merge(new, companies, on = 'Ticker')\n",
    "os.chdir(exportpath)\n",
    "new.to_csv(exportname)"
   ]
  }
 ],
 "metadata": {
  "kernelspec": {
   "display_name": "Python 3",
   "language": "python",
   "name": "python3"
  },
  "language_info": {
   "codemirror_mode": {
    "name": "ipython",
    "version": 3
   },
   "file_extension": ".py",
   "mimetype": "text/x-python",
   "name": "python",
   "nbconvert_exporter": "python",
   "pygments_lexer": "ipython3",
   "version": "3.7.6"
  }
 },
 "nbformat": 4,
 "nbformat_minor": 4
}
