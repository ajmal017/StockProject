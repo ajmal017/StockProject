{
 "cells": [
  {
   "cell_type": "code",
   "execution_count": 1,
   "metadata": {},
   "outputs": [],
   "source": [
    "import pandas as pd\n",
    "import yfinance as yf\n",
    "import numpy as np\n",
    "from sklearn.linear_model import LinearRegression\n",
    "import statsmodels.api as sm\n",
    "from matplotlib import pyplot as plt\n",
    "import seaborn as sns\n",
    "import os\n",
    "\n",
    "from statistics import mean\n",
    "import numpy as np\n",
    "import statsmodels.api as sm"
   ]
  },
  {
   "cell_type": "code",
   "execution_count": 2,
   "metadata": {},
   "outputs": [
    {
     "name": "stdout",
     "output_type": "stream",
     "text": [
      "Last Day:  2020-08-11\n"
     ]
    }
   ],
   "source": [
    "#import Historical Pricing Data compiled from mass yahoo download\n",
    "os.chdir(r'C:\\Users\\nmur1\\Google Drive\\Springboard\\Capstone2\\CleanData')\n",
    "dfHistorical = pd.read_csv('Daily Pricing Detail.csv').dropna()\n",
    "dfHistQuant = pd.read_csv('Historical Quant Prices.csv')\n",
    "print('Last Day: ', dfHistorical.Date.max())"
   ]
  },
  {
   "cell_type": "code",
   "execution_count": 9,
   "metadata": {},
   "outputs": [],
   "source": [
    "dfHistQuant = dfHistQuant.drop(columns = ['Unnamed: 0'])"
   ]
  },
  {
   "cell_type": "code",
   "execution_count": 10,
   "metadata": {},
   "outputs": [],
   "source": [
    "def Slope2(y, lookback = 7):\n",
    "    X = np.arange(0,lookback,1)\n",
    "    X = sm.add_constant(X)\n",
    "    results = sm.OLS(y,X).fit()\n",
    "    #sl = results.params[1]\n",
    "    r2 = results.rsquared\n",
    "                \n",
    "    #sl = mean(y) - m* mean(X)\n",
    "                \n",
    "    return r2"
   ]
  },
  {
   "cell_type": "code",
   "execution_count": 11,
   "metadata": {},
   "outputs": [],
   "source": [
    "dfHistQuant['DI_Plus_R'] = dfHistQuant['DI_Plus'].rolling(7).apply(Slope2)\n",
    "dfHistQuant['DI_Neg_R'] = dfHistQuant['DI_Neg'].rolling(7).apply(Slope2)"
   ]
  },
  {
   "cell_type": "code",
   "execution_count": 14,
   "metadata": {},
   "outputs": [],
   "source": [
    "df = dfHistQuant.dropna()"
   ]
  },
  {
   "cell_type": "code",
   "execution_count": 15,
   "metadata": {},
   "outputs": [],
   "source": [
    "df.to_csv('Historical Quant PricesR.csv')"
   ]
  }
 ],
 "metadata": {
  "kernelspec": {
   "display_name": "Python 3.7.6 64-bit ('base': conda)",
   "language": "python",
   "name": "python37664bitbasecondaa8b2bb7a1475404398bd16ebfacc95c1"
  },
  "language_info": {
   "codemirror_mode": {
    "name": "ipython",
    "version": 3
   },
   "file_extension": ".py",
   "mimetype": "text/x-python",
   "name": "python",
   "nbconvert_exporter": "python",
   "pygments_lexer": "ipython3",
   "version": "3.7.6"
  }
 },
 "nbformat": 4,
 "nbformat_minor": 4
}
